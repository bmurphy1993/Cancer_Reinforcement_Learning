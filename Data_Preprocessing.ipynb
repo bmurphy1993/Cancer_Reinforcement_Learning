{
  "nbformat": 4,
  "nbformat_minor": 0,
  "metadata": {
    "colab": {
      "name": "Data_Preprocessing.ipynb",
      "provenance": [],
      "collapsed_sections": [],
      "authorship_tag": "ABX9TyP37yPWCidPQGpn+c8mDi6j"
    },
    "kernelspec": {
      "name": "python3",
      "display_name": "Python 3"
    }
  },
  "cells": [
    {
      "cell_type": "markdown",
      "metadata": {
        "id": "G-bec3cCXsVx"
      },
      "source": [
        "# Data Exploration and Preprocessing\r\n",
        "TCGA Reannotated Ovarian Cancer Clinical Data "
      ]
    },
    {
      "cell_type": "code",
      "metadata": {
        "id": "mTx2g1keOEjc"
      },
      "source": [
        "import numpy as np\r\n",
        "import pandas as pd\r\n",
        "from functools import reduce\r\n",
        "import itertools"
      ],
      "execution_count": 300,
      "outputs": []
    },
    {
      "cell_type": "markdown",
      "metadata": {
        "id": "68TNefuaXmnW"
      },
      "source": [
        "Import Data"
      ]
    },
    {
      "cell_type": "code",
      "metadata": {
        "id": "kEYLFUOhRVru"
      },
      "source": [
        "# Villalobos 2018 reannotated TCGA data (https://ascopubs.org/doi/suppl/10.1200/CCI.17.00096)\r\n",
        "tcga_ov_1 = pd.read_excel('https://github.com/bmurphy1993/Cancer_Reinforcement_Learning/raw/main/Data/Villalobos_TCGA/ds_CCI.17.00096-1.xlsx',\r\n",
        "                          sheet_name='Master clinical dataset'\r\n",
        "                          )\r\n",
        "\r\n",
        "tcga_ov_2 = pd.read_excel('https://github.com/bmurphy1993/Cancer_Reinforcement_Learning/raw/main/Data/Villalobos_TCGA/ds_CCI.17.00096-2.xlsx',\r\n",
        "                          sheet_name='Months'\r\n",
        "                          )\r\n",
        "\r\n",
        "tcga_ov_3 = pd.read_excel('https://github.com/bmurphy1993/Cancer_Reinforcement_Learning/raw/main/Data/Villalobos_TCGA/ds_CCI.17.00096-3.xlsx',\r\n",
        "                          sheet_name='clinical_drug_all_OV.txt'\r\n",
        "                          )\r\n",
        "\r\n",
        "# TCGA Drug standardization (https://gdisc.bme.gatech.edu/cgi-bin/gdisc/tap5.cgi#)\r\n",
        "drugs = pd.read_csv('https://raw.githubusercontent.com/bmurphy1993/Cancer_Reinforcement_Learning/main/Data/DrugCorrection1.csv')\r\n",
        "drugs['Correction'] = drugs['Correction'].str.strip()"
      ],
      "execution_count": 301,
      "outputs": []
    },
    {
      "cell_type": "markdown",
      "metadata": {
        "id": "M2uBW25GhHv_"
      },
      "source": [
        "## Clean and Reorganize"
      ]
    },
    {
      "cell_type": "markdown",
      "metadata": {
        "id": "TgbCL7brzOid"
      },
      "source": [
        "TCGA 3: Clean"
      ]
    },
    {
      "cell_type": "code",
      "metadata": {
        "id": "C8ZXyxh_Yo7J",
        "colab": {
          "base_uri": "https://localhost:8080/"
        },
        "outputId": "36b710eb-41c0-4eb8-ac01-9b80ec53b2a9"
      },
      "source": [
        "# Drop columns with all missing values\r\n",
        "print(tcga_ov_3.shape)\r\n",
        "print(tcga_ov_3.isnull().sum(), '\\n')\r\n",
        "tcga_ov_3_drop = tcga_ov_3.dropna(axis=1, how='all')\r\n",
        "# Drop rows where drug is missing\r\n",
        "tcga_ov_3_drop = tcga_ov_3_drop[tcga_ov_3_drop['drug_name'].notna()]\r\n",
        "# Drop rows where start AND end are missing (right now it's actuall OR, see below)\r\n",
        "tcga_ov_3_drop = tcga_ov_3_drop.dropna(how='any', subset=['days_to_drug_therapy_end', 'days_to_drug_therapy_start']) #change to how='all' when figure out what to do with start OR end missing\r\n",
        "\r\n",
        "# Standardize drug names\r\n",
        "    # Merge using values from TCGA drug standardization (https://gdisc.bme.gatech.edu/cgi-bin/gdisc/tap5.cgi)\r\n",
        "tcga_ov_3_clean = tcga_ov_3_drop.merge(drugs, how='left', left_on='drug_name', right_on='OldName').drop(['OldName'], axis=1)\r\n",
        "    # Additional replacement rules\r\n",
        "tcga_ov_3_clean.loc[tcga_ov_3_clean['drug_name'] == 'Doxoribicin', 'Correction'] = 'Doxorubicin'\r\n",
        "tcga_ov_3_clean.loc[tcga_ov_3_clean['drug_name'] == 'gemcitabin', 'Correction'] = 'Gemcitabine'\r\n",
        "tcga_ov_3_clean.loc[tcga_ov_3_clean['drug_name'] == 'Hexlalen', 'Correction'] = 'Altretamine'\r\n",
        "tcga_ov_3_clean.loc[tcga_ov_3_clean['drug_name'] == 'Cisplatin/Gemzar', 'Correction'] = 'Cisplatin' # This applies to only one line, which has another sample just for Gemzar (Gemcitabine)\r\n",
        "tcga_ov_3_clean.loc[tcga_ov_3_clean['drug_name'] == 'Ilex', 'Correction'] = 'Ilex'\r\n",
        "tcga_ov_3_clean.loc[tcga_ov_3_clean['drug_name'] == 'ILIZ', 'Correction'] = 'ILIZ'\r\n",
        "tcga_ov_3_clean.loc[tcga_ov_3_clean['drug_name'] == 'Lily', 'Correction'] = 'Lily'\r\n",
        "\r\n",
        "    # Print replacement rules and replace 'drug_name'\r\n",
        "drug_name_old = tcga_ov_3_clean['drug_name']\r\n",
        "drug_name_new = tcga_ov_3_clean['Correction']\r\n",
        "rules = pd.DataFrame({'drug_name_old': drug_name_old, 'drug_name_new': drug_name_new}).drop_duplicates().sort_values(by=['drug_name_old']).reset_index().drop('index', axis=1)\r\n",
        "\r\n",
        "pd.set_option('display.max_rows', None)\r\n",
        "print('Replacement Rules:\\n', rules.head(), '\\n')\r\n",
        "pd.reset_option('max_rows')\r\n",
        "\r\n",
        "tcga_ov_3_clean['drug_name'] = tcga_ov_3_clean['Correction']\r\n",
        "tcga_ov_3_clean = tcga_ov_3_clean.drop('Correction', axis=1)\r\n",
        "\r\n",
        "    # List of drugs in dataset\r\n",
        "drug_list = [x for x in list(tcga_ov_3_clean['drug_name'].drop_duplicates()) if str(x) != 'nan']\r\n",
        "drug_list.sort()\r\n",
        "print('Unique Drugs:', len(drug_list), '\\n', drug_list, '\\n')\r\n",
        "\r\n",
        "# Drop where therapy start = therapy end\r\n",
        "tcga_ov_3_clean = tcga_ov_3_clean[tcga_ov_3_clean['days_to_drug_therapy_end'] != tcga_ov_3_clean['days_to_drug_therapy_start']] "
      ],
      "execution_count": 359,
      "outputs": [
        {
          "output_type": "stream",
          "text": [
            "(2463, 19)\n",
            "bcr_patient_barcode                 0\n",
            "bcr_drug_barcode                    0\n",
            "days_to_drug_therapy_end          339\n",
            "days_to_drug_therapy_start        145\n",
            "days_to_drug_treatment_end       2463\n",
            "days_to_drug_treatment_start     2463\n",
            "dosage_units                     2463\n",
            "drug_category                       0\n",
            "drug_dosage                      2463\n",
            "drug_name                          11\n",
            "initial_course                   2463\n",
            "number_cycles                     391\n",
            "regimen_indication                  2\n",
            "regimen_indication_notes         2328\n",
            "route_of_administration           243\n",
            "route_of_administration_notes    2126\n",
            "therapy_ongoing                   167\n",
            "total_dose                        746\n",
            "total_dose_units                  715\n",
            "dtype: int64 \n",
            "\n",
            "Replacement Rules:\n",
            "            drug_name_old            drug_name_new\n",
            "0         5F4 Leucovorin  Fluorouracil+Leucovorin\n",
            "1            90Y-HU3S193                  Hu3S193\n",
            "2                AMG 706                Motesanib\n",
            "3  Abagovomab or Placebo               Abagovomab\n",
            "4  Abagovomag vs Placebo               Abagovomab \n",
            "\n",
            "Unique Drugs: 56 \n",
            " ['Abagovomab', 'Aldesleukin', 'Altretamine', 'Amifostine', 'Aminocamptothecin', 'Anastrozole', 'Bevacizumab', 'CBP501', 'CEP -11981', 'Capecitabine', 'Carboplatin', 'Catumaxomab', 'Cediranib', 'Cetuximab', 'Chlorambucil', 'Cisplatin', 'Cyclophosphamide', 'Dexamethasone', 'Docetaxel', 'Dortezomib', 'Doxorubicin', 'Etoposide', 'Fluorouracil+Leucovorin', 'Gefitinib', 'Gemcitabine', 'Hu3S193', 'Ifosfamide', 'Ilex', 'Irinotecan', 'Irofulven', 'Letrozole', 'Leuprolide', 'Lily', 'Megestrol', 'Mitoxantrone', 'Motesanib', 'NOS', 'Oregovomab', 'Oxaliplatin', 'Paclitaxel', 'Paclitaxel+Carboplatin', 'Patupilone', 'Pemetrexed', 'SCH 58500', 'Sargramostim', 'Sorafenib', 'Tamoxifen', 'Topotecan', 'Topotecan+Carboplatin', 'Trabectedin', 'Trastuzumab', 'Vamydex', 'Vincristine', 'Vinorelbine', 'Vosaroxin', 'rBBX-01'] \n",
            "\n"
          ],
          "name": "stdout"
        }
      ]
    },
    {
      "cell_type": "markdown",
      "metadata": {
        "id": "RlpTIsomL8nT"
      },
      "source": [
        "TCGA 3: Fix/standardize time variables and fix order of therapy lines"
      ]
    },
    {
      "cell_type": "code",
      "metadata": {
        "id": "ycWmppEk6d5o"
      },
      "source": [
        "# Fix values where start and end are switched\r\n",
        "tcga_ov_3_clean.loc[tcga_ov_3_clean['days_to_drug_therapy_start'] > tcga_ov_3_clean['days_to_drug_therapy_end'], ['days_to_drug_therapy_start', 'days_to_drug_therapy_end']] = tcga_ov_3_clean.loc[tcga_ov_3_clean['days_to_drug_therapy_start'] > tcga_ov_3_clean['days_to_drug_therapy_end'], ['days_to_drug_therapy_end', 'days_to_drug_therapy_start']].values\r\n",
        "\r\n",
        "# Set earliest drug therapy start to zero and subtract everything else by min days\r\n",
        "ther_start = tcga_ov_3_clean.groupby('bcr_patient_barcode')['days_to_drug_therapy_start']\r\n",
        "tcga_timefix = tcga_ov_3_clean.assign(start_day=ther_start.transform(min))\r\n",
        "      # keep start days for later use with tcga_ov_1\r\n",
        "tcga_start_days = tcga_timefix[['bcr_patient_barcode', 'start_day']].drop_duplicates()\r\n",
        "\r\n",
        "tcga_timefix['therapy_start'] = tcga_timefix['days_to_drug_therapy_start'] - tcga_timefix['start_day']\r\n",
        "tcga_timefix['therapy_end'] = tcga_timefix['days_to_drug_therapy_end'] - tcga_timefix['start_day']\r\n",
        "tcga_timefix = tcga_timefix.drop(['days_to_drug_therapy_end', 'days_to_drug_therapy_start', 'start_day'], axis=1)\r\n",
        "tcga_timefix = tcga_timefix.sort_values(by=['bcr_patient_barcode', 'therapy_start', 'therapy_end'])\r\n",
        "\r\n",
        "# Set up state list for each patient: barcode, timing, drug combo\r\n",
        "tcga_drug_lines = []\r\n",
        "for barcode in tcga_timefix['bcr_patient_barcode'].unique():\r\n",
        "    tcga_time = tcga_timefix[tcga_timefix['bcr_patient_barcode'] == barcode]\r\n",
        "    tcga_time = tcga_time[['therapy_start', 'therapy_end', 'drug_name']].drop_duplicates(keep='first').values.tolist() # Drop duplicate drugs that have different dosages or administration but same timing\r\n",
        "\r\n",
        "    points = [] # list of (offset, plus/minus, drug) tuples\r\n",
        "    for start,stop,drug in tcga_time:\r\n",
        "        points.append((start,'+',drug))\r\n",
        "        points.append((stop,'-',drug))\r\n",
        "    points.sort()\r\n",
        "\r\n",
        "    ranges = [] # output list of (start, stop, drug_set) tuples\r\n",
        "    current_set = []\r\n",
        "    last_start = None\r\n",
        "    for offset,pm,drug in points:\r\n",
        "        if pm == '+':\r\n",
        "            if last_start is not None:\r\n",
        "                ranges.append([last_start,offset,list(set(current_set.copy()))])\r\n",
        "            current_set.append(drug)\r\n",
        "            last_start = offset\r\n",
        "        elif pm == '-':\r\n",
        "            ranges.append([last_start,offset,list(set(current_set.copy()))])\r\n",
        "            current_set.remove(drug)\r\n",
        "            last_start = offset\r\n",
        "\r\n",
        "    # Finish off\r\n",
        "    if last_start is not None:\r\n",
        "        ranges.append([last_start,offset,list(set(current_set.copy()))])\r\n",
        "\r\n",
        "    # Remove the ranges where start = stop\r\n",
        "    range_drug = []\r\n",
        "    for i in range(len(ranges)):\r\n",
        "        if ranges[i][0] != ranges[i][1]: # add condition:  <& (ranges[i][2] != [])> to drop no-drug periods\r\n",
        "            range_drug.append(ranges[i])\r\n",
        "\r\n",
        "    # Sort drugs in each drug combo\r\n",
        "    for i in range(len(range_drug)):\r\n",
        "        range_drug[i][2].sort()\r\n",
        "\r\n",
        "    # Remove overlapping/back-to-back duplicate lines. Drop this section if decide to do something with dosages\r\n",
        "    ranges_final = []\r\n",
        "    for line in range(0, len(range_drug)-1):\r\n",
        "        if (range_drug[line+1][2] == range_drug[line][2]) & (range_drug[line+1][0] <= range_drug[line][1]):\r\n",
        "            range_drug[line][1] = range_drug[line+1][1]\r\n",
        "            range_drug[line+1][0] = range_drug[line][0]\r\n",
        "        if (range_drug[line][2] != range_drug[line+1][2]) | (range_drug[line][0] != range_drug[line+1][0]):\r\n",
        "            ranges_final.append(range_drug[line])\r\n",
        "    # if (range_drug[len(range_drug)-1][2] != range_drug[len(range_drug)-2][2]) | (range_drug[len(range_drug)-1][0] != range_drug[len(range_drug)-2][0]):\r\n",
        "    ranges_final.append(range_drug[len(range_drug)-1])\r\n",
        "\r\n",
        "    # Add the number of previous lines of therapy\r\n",
        "    for line in range(len(ranges_final)):\r\n",
        "        if line == 0:\r\n",
        "            ranges_final[line].append(0) \r\n",
        "        elif ranges_final[line-1][2] == []:\r\n",
        "            ranges_final[line].append(ranges_final[line-1][3])\r\n",
        "        else:\r\n",
        "            ranges_final[line].append(ranges_final[line-1][3] + 1)\r\n",
        "    \r\n",
        "    # Add treat transition var\r\n",
        "    for line in range(len(ranges_final)):\r\n",
        "        try:\r\n",
        "            if ranges_final[line+1][2] != []:\r\n",
        "                ranges_final[line].append(1)\r\n",
        "            else:\r\n",
        "                ranges_final[line].append(0)\r\n",
        "        except IndexError:\r\n",
        "            ranges_final[line].append(0)\r\n",
        "\r\n",
        "    # Add patient barcodes\r\n",
        "    for line in range(len(ranges_final)):\r\n",
        "        ranges_final[line].insert(0, barcode)\r\n",
        "    \r\n",
        "\r\n",
        "    tcga_drug_lines.extend(ranges_final)\r\n",
        "\r\n",
        "tcga_drug_lines[3] = ['TCGA-04-1332', 0.0, 151.0, ['Carboplatin', 'Paclitaxel', 'Topotecan'], 0, 0] # Special case to fix. Make sure to check this if make changes above\r\n",
        "\r\n",
        "# Back to df\r\n",
        "lines_df = pd.DataFrame(tcga_drug_lines, columns=['bcr_patient_barcode', 'start', 'end', 'therapy', 'previous_lines', 'treat'])\r\n",
        "\r\n",
        "# List of patient barcodes\r\n",
        "tcga_barcodes = list(lines_df['bcr_patient_barcode'].unique())\r\n",
        "\r\n",
        "# Notes\r\n",
        "    # One thing to be aware of is that this code drops all values where therapy start and therapy end are equal\r\n",
        "    # Fix: drops all back to back duplicate treatment, should keep first (see TCGA-04-1365)"
      ],
      "execution_count": null,
      "outputs": []
    },
    {
      "cell_type": "markdown",
      "metadata": {
        "id": "IX1joLnWxyzL"
      },
      "source": [
        "TCGA 1: Clean"
      ]
    },
    {
      "cell_type": "code",
      "metadata": {
        "id": "eH71y_18xy4L",
        "colab": {
          "base_uri": "https://localhost:8080/",
          "height": 623
        },
        "outputId": "a0816b70-0ce0-403e-8b7a-f1a655def177"
      },
      "source": [
        "# Keep subset of variables \r\n",
        "print('NaNs: ', tcga_ov_1.isnull().sum())\r\n",
        "tcga_ov_1_keep = tcga_ov_1[['bcr_patient_barcode',\r\n",
        "                            'total_days_overall_survival',\r\n",
        "                            'outcome_overall_survival_censoring',\r\n",
        "                            # 'vital_status',\r\n",
        "                            # 'days_to_tumor_progression',\r\n",
        "                            # 'days_to_death',\r\n",
        "                            # 'days_to_last_followup',\r\n",
        "                            # 'days_to_tumor_recurrence',\r\n",
        "                            # 'time_to_failure',  \r\n",
        "                            # 'Cycles_of_adjuvant_therapy',\r\n",
        "                            # 'Adjuvant_chemotherapy_dose_intensity',\r\n",
        "                            'age_at_initial_pathologic_diagnosis',\r\n",
        "                            # 'anatomic_organ_subdivision',\r\n",
        "                            # 'days_to_birth',\r\n",
        "                            # 'initial_pathologic_diagnosis_method',\r\n",
        "                            # 'person_neoplasm_cancer_status',\r\n",
        "                            # 'pretreatment_history',\r\n",
        "                            # 'primary_therapy_outcome_success', # ask EKO about this\r\n",
        "                            'race',\r\n",
        "                            # 'residual_tumor',\r\n",
        "                            # 'site_of_tumor_first_recurrence',\r\n",
        "                            # 'tissue_source_site',\r\n",
        "                            'tumor_grade',\r\n",
        "                            # 'tumor_residual_disease',\r\n",
        "                            'tumor_stage',\r\n",
        "                            # 'tumor_tissue_site'\r\n",
        "                            # 'year_of_initial_pathologic_diagnosis',\r\n",
        "                            # 'Days off platinum prior to recurrence 1st line',\r\n",
        "                            # 'Last day of platinum 1st line',\r\n",
        "                            # 'Chemotherapy number of lines of therapy'\r\n",
        "                            ]]\r\n",
        "\r\n",
        "# Drop cases that don't have a survival metric\r\n",
        "tcga_ov_1_keep = tcga_ov_1_keep.dropna(subset=['total_days_overall_survival'])\r\n",
        "tcga_ov_1_keep.drop(tcga_ov_1_keep[tcga_ov_1_keep['total_days_overall_survival'] == 'cannot assess'].index, inplace=True)\r\n",
        "\r\n",
        "# Only keep samples that are in the cleaned 'lines' data\r\n",
        "tcga_ov_1_keep = tcga_ov_1_keep[tcga_ov_1_keep['bcr_patient_barcode'].isin(tcga_barcodes)].sort_values(by=['bcr_patient_barcode']).reset_index().drop('index', axis=1)\r\n",
        "\r\n",
        "# Adjust final survival by start of therapy day\r\n",
        "tcga_start_days = tcga_start_days[tcga_start_days['bcr_patient_barcode'].isin(tcga_barcodes)].sort_values(by=['bcr_patient_barcode']).reset_index().drop('index', axis=1)\r\n",
        "tcga_ov_1_keep['total_days_overall_survival'] = tcga_ov_1_keep['total_days_overall_survival'] - tcga_start_days['start_day'] # this needs work, getting some negative values\r\n",
        "\r\n",
        "tcga_ov_1_keep"
      ],
      "execution_count": 304,
      "outputs": [
        {
          "output_type": "stream",
          "text": [
            "NaNs:  bcr_patient_barcode                                 4\n",
            "total_days_overall_survival                        28\n",
            "outcome_overall_survival_censoring                 16\n",
            "vital_status                                       34\n",
            "days_to_tumor_progression                         570\n",
            "                                                 ... \n",
            "5th_chemo_regimen_days_outcome                    524\n",
            "6th_chemo_regimen_days_outcome                    552\n",
            "Days off platinum prior to recurrence 1st line     99\n",
            "Last day of platinum 1st line                     108\n",
            "Chemotherapy number of lines of therapy            27\n",
            "Length: 72, dtype: int64\n"
          ],
          "name": "stdout"
        },
        {
          "output_type": "execute_result",
          "data": {
            "text/html": [
              "<div>\n",
              "<style scoped>\n",
              "    .dataframe tbody tr th:only-of-type {\n",
              "        vertical-align: middle;\n",
              "    }\n",
              "\n",
              "    .dataframe tbody tr th {\n",
              "        vertical-align: top;\n",
              "    }\n",
              "\n",
              "    .dataframe thead th {\n",
              "        text-align: right;\n",
              "    }\n",
              "</style>\n",
              "<table border=\"1\" class=\"dataframe\">\n",
              "  <thead>\n",
              "    <tr style=\"text-align: right;\">\n",
              "      <th></th>\n",
              "      <th>bcr_patient_barcode</th>\n",
              "      <th>total_days_overall_survival</th>\n",
              "      <th>outcome_overall_survival_censoring</th>\n",
              "      <th>age_at_initial_pathologic_diagnosis</th>\n",
              "      <th>race</th>\n",
              "      <th>tumor_grade</th>\n",
              "      <th>tumor_stage</th>\n",
              "    </tr>\n",
              "  </thead>\n",
              "  <tbody>\n",
              "    <tr>\n",
              "      <th>0</th>\n",
              "      <td>TCGA-04-1331</td>\n",
              "      <td>1300</td>\n",
              "      <td>1</td>\n",
              "      <td>79.0</td>\n",
              "      <td>WHITE</td>\n",
              "      <td>G3</td>\n",
              "      <td>IIIC</td>\n",
              "    </tr>\n",
              "    <tr>\n",
              "      <th>1</th>\n",
              "      <td>TCGA-04-1332</td>\n",
              "      <td>1217</td>\n",
              "      <td>1</td>\n",
              "      <td>70.0</td>\n",
              "      <td>WHITE</td>\n",
              "      <td>G3</td>\n",
              "      <td>IIIC</td>\n",
              "    </tr>\n",
              "    <tr>\n",
              "      <th>2</th>\n",
              "      <td>TCGA-04-1336</td>\n",
              "      <td>1445</td>\n",
              "      <td>0</td>\n",
              "      <td>55.0</td>\n",
              "      <td>WHITE</td>\n",
              "      <td>G3</td>\n",
              "      <td>IIIB</td>\n",
              "    </tr>\n",
              "    <tr>\n",
              "      <th>3</th>\n",
              "      <td>TCGA-04-1338</td>\n",
              "      <td>1418</td>\n",
              "      <td>0</td>\n",
              "      <td>78.0</td>\n",
              "      <td>WHITE</td>\n",
              "      <td>G3</td>\n",
              "      <td>IIIC</td>\n",
              "    </tr>\n",
              "    <tr>\n",
              "      <th>4</th>\n",
              "      <td>TCGA-04-1342</td>\n",
              "      <td>531</td>\n",
              "      <td>1</td>\n",
              "      <td>80.0</td>\n",
              "      <td>WHITE</td>\n",
              "      <td>G2</td>\n",
              "      <td>IV</td>\n",
              "    </tr>\n",
              "    <tr>\n",
              "      <th>...</th>\n",
              "      <td>...</td>\n",
              "      <td>...</td>\n",
              "      <td>...</td>\n",
              "      <td>...</td>\n",
              "      <td>...</td>\n",
              "      <td>...</td>\n",
              "      <td>...</td>\n",
              "    </tr>\n",
              "    <tr>\n",
              "      <th>455</th>\n",
              "      <td>TCGA-61-2113</td>\n",
              "      <td>627</td>\n",
              "      <td>1</td>\n",
              "      <td>54.0</td>\n",
              "      <td>WHITE</td>\n",
              "      <td>G3</td>\n",
              "      <td>IIC</td>\n",
              "    </tr>\n",
              "    <tr>\n",
              "      <th>456</th>\n",
              "      <td>TCGA-61-2610</td>\n",
              "      <td>1550</td>\n",
              "      <td>1</td>\n",
              "      <td>61.0</td>\n",
              "      <td>WHITE</td>\n",
              "      <td>G3</td>\n",
              "      <td>IIIC</td>\n",
              "    </tr>\n",
              "    <tr>\n",
              "      <th>457</th>\n",
              "      <td>TCGA-61-2611</td>\n",
              "      <td>417</td>\n",
              "      <td>1</td>\n",
              "      <td>40.0</td>\n",
              "      <td>WHITE</td>\n",
              "      <td>G3</td>\n",
              "      <td>IIIC</td>\n",
              "    </tr>\n",
              "    <tr>\n",
              "      <th>458</th>\n",
              "      <td>TCGA-61-2612</td>\n",
              "      <td>173</td>\n",
              "      <td>1</td>\n",
              "      <td>63.0</td>\n",
              "      <td>WHITE</td>\n",
              "      <td>G3</td>\n",
              "      <td>IIIC</td>\n",
              "    </tr>\n",
              "    <tr>\n",
              "      <th>459</th>\n",
              "      <td>TCGA-61-2613</td>\n",
              "      <td>561</td>\n",
              "      <td>1</td>\n",
              "      <td>73.0</td>\n",
              "      <td>WHITE</td>\n",
              "      <td>G3</td>\n",
              "      <td>IIIC</td>\n",
              "    </tr>\n",
              "  </tbody>\n",
              "</table>\n",
              "<p>460 rows × 7 columns</p>\n",
              "</div>"
            ],
            "text/plain": [
              "    bcr_patient_barcode total_days_overall_survival  ... tumor_grade  tumor_stage\n",
              "0          TCGA-04-1331                        1300  ...          G3         IIIC\n",
              "1          TCGA-04-1332                        1217  ...          G3         IIIC\n",
              "2          TCGA-04-1336                        1445  ...          G3         IIIB\n",
              "3          TCGA-04-1338                        1418  ...          G3         IIIC\n",
              "4          TCGA-04-1342                         531  ...          G2           IV\n",
              "..                  ...                         ...  ...         ...          ...\n",
              "455        TCGA-61-2113                         627  ...          G3          IIC\n",
              "456        TCGA-61-2610                        1550  ...          G3         IIIC\n",
              "457        TCGA-61-2611                         417  ...          G3         IIIC\n",
              "458        TCGA-61-2612                         173  ...          G3         IIIC\n",
              "459        TCGA-61-2613                         561  ...          G3         IIIC\n",
              "\n",
              "[460 rows x 7 columns]"
            ]
          },
          "metadata": {
            "tags": []
          },
          "execution_count": 304
        }
      ]
    },
    {
      "cell_type": "markdown",
      "metadata": {
        "id": "vRX2hrEOPvMu"
      },
      "source": [
        "Add death and no treatment dummies to drug lines data"
      ]
    },
    {
      "cell_type": "code",
      "metadata": {
        "id": "X95jfaknP5oS"
      },
      "source": [
        "# Merge in final death event for each patient\r\n",
        "lines_df_2 = lines_df.merge(tcga_ov_1_keep[['bcr_patient_barcode', 'outcome_overall_survival_censoring']], on='bcr_patient_barcode').rename(columns={'bcr_patient_barcode': 'patient', 'outcome_overall_survival_censoring': 'death'})\r\n",
        "\r\n",
        "# Only keep death event on last line\r\n",
        "lines_df_2.loc[lines_df_2['patient'] == lines_df_2['patient'].shift(-1), 'death'] = 0\r\n",
        "\r\n",
        "# Dummy for transition no treatment\r\n",
        "lines_df_2['no_treat'] = 1 - lines_df_2['treat'] - lines_df_2['death']\r\n",
        "\r\n",
        "# Function to get indices of a therapy\r\n",
        "def get_index_pos(my_list, val):\r\n",
        "    return [i for i, x in enumerate(my_list) if x == val]"
      ],
      "execution_count": 305,
      "outputs": []
    },
    {
      "cell_type": "markdown",
      "metadata": {
        "id": "WnwEXGPRAq7A"
      },
      "source": [
        "## Create MDP objects\r\n",
        "\r\n",
        "* This should probably be the start of the next notebook"
      ]
    },
    {
      "cell_type": "markdown",
      "metadata": {
        "id": "ZvulJ_dUAv2h"
      },
      "source": [
        "State and Action set"
      ]
    },
    {
      "cell_type": "code",
      "metadata": {
        "id": "Ciq1VT6qIHUH",
        "colab": {
          "base_uri": "https://localhost:8080/"
        },
        "outputId": "2e549447-7a3e-41a9-b77d-951e5550553e"
      },
      "source": [
        "# States\r\n",
        "state_set = ['N', 'T', 'D']\r\n",
        "\r\n",
        "# Combos resulting from actions\r\n",
        "combos = []\r\n",
        "for i in range(len(tcga_drug_lines)):\r\n",
        "    combos.append(tcga_drug_lines[i][3])\r\n",
        "\r\n",
        "combos.sort()\r\n",
        "combos = list(combos for combos,_ in itertools.groupby(combos))\r\n",
        "print(len(combos))\r\n",
        "combos[0:10]"
      ],
      "execution_count": 361,
      "outputs": [
        {
          "output_type": "stream",
          "text": [
            "128\n"
          ],
          "name": "stdout"
        },
        {
          "output_type": "execute_result",
          "data": {
            "text/plain": [
              "[[],\n",
              " ['Abagovomab'],\n",
              " ['Aldesleukin'],\n",
              " ['Altretamine'],\n",
              " ['Amifostine', 'Carboplatin', 'Cisplatin', 'Paclitaxel'],\n",
              " ['Amifostine', 'Carboplatin', 'Paclitaxel'],\n",
              " ['Amifostine', 'Cisplatin', 'Paclitaxel'],\n",
              " ['Amifostine', 'Paclitaxel'],\n",
              " ['Aminocamptothecin'],\n",
              " ['Anastrozole']]"
            ]
          },
          "metadata": {
            "tags": []
          },
          "execution_count": 361
        }
      ]
    },
    {
      "cell_type": "markdown",
      "metadata": {
        "id": "fuspJEgVFPKy"
      },
      "source": [
        "Transition matrix"
      ]
    },
    {
      "cell_type": "code",
      "metadata": {
        "colab": {
          "base_uri": "https://localhost:8080/",
          "height": 419
        },
        "id": "9twC_Md7dh2H",
        "outputId": "88813329-4b80-41b2-ce9c-2f1bcdf60ac9"
      },
      "source": [
        "# this cell is just for looking at stuff\r\n",
        "lines_df_2"
      ],
      "execution_count": 307,
      "outputs": [
        {
          "output_type": "execute_result",
          "data": {
            "text/html": [
              "<div>\n",
              "<style scoped>\n",
              "    .dataframe tbody tr th:only-of-type {\n",
              "        vertical-align: middle;\n",
              "    }\n",
              "\n",
              "    .dataframe tbody tr th {\n",
              "        vertical-align: top;\n",
              "    }\n",
              "\n",
              "    .dataframe thead th {\n",
              "        text-align: right;\n",
              "    }\n",
              "</style>\n",
              "<table border=\"1\" class=\"dataframe\">\n",
              "  <thead>\n",
              "    <tr style=\"text-align: right;\">\n",
              "      <th></th>\n",
              "      <th>patient</th>\n",
              "      <th>start</th>\n",
              "      <th>end</th>\n",
              "      <th>therapy</th>\n",
              "      <th>previous_lines</th>\n",
              "      <th>treat</th>\n",
              "      <th>death</th>\n",
              "      <th>no_treat</th>\n",
              "    </tr>\n",
              "  </thead>\n",
              "  <tbody>\n",
              "    <tr>\n",
              "      <th>0</th>\n",
              "      <td>TCGA-04-1331</td>\n",
              "      <td>0.0</td>\n",
              "      <td>133.0</td>\n",
              "      <td>[Carboplatin, Paclitaxel]</td>\n",
              "      <td>0</td>\n",
              "      <td>0</td>\n",
              "      <td>0</td>\n",
              "      <td>1</td>\n",
              "    </tr>\n",
              "    <tr>\n",
              "      <th>1</th>\n",
              "      <td>TCGA-04-1331</td>\n",
              "      <td>133.0</td>\n",
              "      <td>445.0</td>\n",
              "      <td>[]</td>\n",
              "      <td>1</td>\n",
              "      <td>1</td>\n",
              "      <td>0</td>\n",
              "      <td>0</td>\n",
              "    </tr>\n",
              "    <tr>\n",
              "      <th>2</th>\n",
              "      <td>TCGA-04-1331</td>\n",
              "      <td>445.0</td>\n",
              "      <td>462.0</td>\n",
              "      <td>[Dortezomib]</td>\n",
              "      <td>1</td>\n",
              "      <td>0</td>\n",
              "      <td>1</td>\n",
              "      <td>0</td>\n",
              "    </tr>\n",
              "    <tr>\n",
              "      <th>3</th>\n",
              "      <td>TCGA-04-1332</td>\n",
              "      <td>0.0</td>\n",
              "      <td>151.0</td>\n",
              "      <td>[Carboplatin, Paclitaxel, Topotecan]</td>\n",
              "      <td>0</td>\n",
              "      <td>0</td>\n",
              "      <td>0</td>\n",
              "      <td>1</td>\n",
              "    </tr>\n",
              "    <tr>\n",
              "      <th>4</th>\n",
              "      <td>TCGA-04-1332</td>\n",
              "      <td>151.0</td>\n",
              "      <td>396.0</td>\n",
              "      <td>[]</td>\n",
              "      <td>1</td>\n",
              "      <td>1</td>\n",
              "      <td>0</td>\n",
              "      <td>0</td>\n",
              "    </tr>\n",
              "    <tr>\n",
              "      <th>...</th>\n",
              "      <td>...</td>\n",
              "      <td>...</td>\n",
              "      <td>...</td>\n",
              "      <td>...</td>\n",
              "      <td>...</td>\n",
              "      <td>...</td>\n",
              "      <td>...</td>\n",
              "      <td>...</td>\n",
              "    </tr>\n",
              "    <tr>\n",
              "      <th>1912</th>\n",
              "      <td>TCGA-61-2610</td>\n",
              "      <td>500.0</td>\n",
              "      <td>561.0</td>\n",
              "      <td>[]</td>\n",
              "      <td>2</td>\n",
              "      <td>1</td>\n",
              "      <td>0</td>\n",
              "      <td>0</td>\n",
              "    </tr>\n",
              "    <tr>\n",
              "      <th>1913</th>\n",
              "      <td>TCGA-61-2610</td>\n",
              "      <td>561.0</td>\n",
              "      <td>1101.0</td>\n",
              "      <td>[Doxorubicin]</td>\n",
              "      <td>2</td>\n",
              "      <td>0</td>\n",
              "      <td>1</td>\n",
              "      <td>0</td>\n",
              "    </tr>\n",
              "    <tr>\n",
              "      <th>1914</th>\n",
              "      <td>TCGA-61-2611</td>\n",
              "      <td>0.0</td>\n",
              "      <td>238.0</td>\n",
              "      <td>[Carboplatin, Paclitaxel]</td>\n",
              "      <td>0</td>\n",
              "      <td>0</td>\n",
              "      <td>1</td>\n",
              "      <td>0</td>\n",
              "    </tr>\n",
              "    <tr>\n",
              "      <th>1915</th>\n",
              "      <td>TCGA-61-2612</td>\n",
              "      <td>0.0</td>\n",
              "      <td>131.0</td>\n",
              "      <td>[Carboplatin, Paclitaxel]</td>\n",
              "      <td>0</td>\n",
              "      <td>0</td>\n",
              "      <td>1</td>\n",
              "      <td>0</td>\n",
              "    </tr>\n",
              "    <tr>\n",
              "      <th>1916</th>\n",
              "      <td>TCGA-61-2613</td>\n",
              "      <td>0.0</td>\n",
              "      <td>105.0</td>\n",
              "      <td>[Carboplatin, Paclitaxel]</td>\n",
              "      <td>0</td>\n",
              "      <td>0</td>\n",
              "      <td>1</td>\n",
              "      <td>0</td>\n",
              "    </tr>\n",
              "  </tbody>\n",
              "</table>\n",
              "<p>1917 rows × 8 columns</p>\n",
              "</div>"
            ],
            "text/plain": [
              "           patient  start     end  ... treat  death  no_treat\n",
              "0     TCGA-04-1331    0.0   133.0  ...     0      0         1\n",
              "1     TCGA-04-1331  133.0   445.0  ...     1      0         0\n",
              "2     TCGA-04-1331  445.0   462.0  ...     0      1         0\n",
              "3     TCGA-04-1332    0.0   151.0  ...     0      0         1\n",
              "4     TCGA-04-1332  151.0   396.0  ...     1      0         0\n",
              "...            ...    ...     ...  ...   ...    ...       ...\n",
              "1912  TCGA-61-2610  500.0   561.0  ...     1      0         0\n",
              "1913  TCGA-61-2610  561.0  1101.0  ...     0      1         0\n",
              "1914  TCGA-61-2611    0.0   238.0  ...     0      1         0\n",
              "1915  TCGA-61-2612    0.0   131.0  ...     0      1         0\n",
              "1916  TCGA-61-2613    0.0   105.0  ...     0      1         0\n",
              "\n",
              "[1917 rows x 8 columns]"
            ]
          },
          "metadata": {
            "tags": []
          },
          "execution_count": 307
        }
      ]
    },
    {
      "cell_type": "code",
      "metadata": {
        "colab": {
          "base_uri": "https://localhost:8080/"
        },
        "id": "DEeUFm3ZM8RU",
        "outputId": "4dad863c-d0b2-45b0-9d7e-d524fcefff9f"
      },
      "source": [
        "# States = {No Treatment, Treatment, Death}\r\n",
        "nactions = len(combos) # action set is list of unique drug combos\r\n",
        "nstates = len(state_set) # three state probabilities\r\n",
        "\r\n",
        "# Initialize transition matrix\r\n",
        "transitions = np.zeros((nactions,nstates-1,nstates))\r\n",
        "print('T_a shape:\\n',\r\n",
        "      '   N  T  D\\n',\r\n",
        "      'N', transitions[0][0],'\\n',\r\n",
        "      'T', transitions[0][1])\r\n",
        "\r\n",
        "# Calculate probabilities\r\n",
        "for i in range(nactions):\r\n",
        "    inds = get_index_pos(list(lines_df_2['therapy']), combos[i])\r\n",
        "    \r\n",
        "    n_prob = lines_df_2[['no_treat']].iloc[inds, :].sum().values[0] / len(inds)\r\n",
        "    t_prob = lines_df_2[['treat']].iloc[inds, :].sum().values[0] / len(inds)\r\n",
        "    d_prob = lines_df_2[['death']].iloc[inds, :].sum().values[0] / len(inds)\r\n",
        "\r\n",
        "    if combos[i] == []:\r\n",
        "        # N --> \r\n",
        "        transitions[i][0][0] = n_prob\r\n",
        "        transitions[i][0][1] = t_prob\r\n",
        "        transitions[i][0][2] = d_prob\r\n",
        "        # T -->\r\n",
        "        transitions[i][1][0] = 0\r\n",
        "        transitions[i][1][1] = 0\r\n",
        "        transitions[i][1][2] = 0\r\n",
        "    else:\r\n",
        "        # N --> \r\n",
        "        transitions[i][0][0] = 0\r\n",
        "        transitions[i][0][1] = 0\r\n",
        "        transitions[i][0][2] = 0\r\n",
        "        # T -->\r\n",
        "        transitions[i][1][0] = n_prob\r\n",
        "        transitions[i][1][1] = t_prob\r\n",
        "        transitions[i][1][2] = d_prob\r\n",
        "\r\n",
        "# Get tranistion probabilities function\r\n",
        "def get_probs(act_choice, curr_state, trans_set=transitions, act_set=combos, states_set=state_set):\r\n",
        "    return trans_set[act_set.index(act_choice)][states_set.index(curr_state)]\r\n",
        "\r\n",
        "transitions[0:10]"
      ],
      "execution_count": 308,
      "outputs": [
        {
          "output_type": "stream",
          "text": [
            "T_a shape:\n",
            "    N  T  D\n",
            " N [0. 0. 0.] \n",
            " T [0. 0. 0.]\n"
          ],
          "name": "stdout"
        },
        {
          "output_type": "execute_result",
          "data": {
            "text/plain": [
              "array([[[0.        , 1.        , 0.        ],\n",
              "        [0.        , 0.        , 0.        ]],\n",
              "\n",
              "       [[0.        , 0.        , 0.        ],\n",
              "        [1.        , 0.        , 0.        ]],\n",
              "\n",
              "       [[0.        , 0.        , 0.        ],\n",
              "        [1.        , 0.        , 0.        ]],\n",
              "\n",
              "       [[0.        , 0.        , 0.        ],\n",
              "        [0.8       , 0.        , 0.2       ]],\n",
              "\n",
              "       [[0.        , 0.        , 0.        ],\n",
              "        [1.        , 0.        , 0.        ]],\n",
              "\n",
              "       [[0.        , 0.        , 0.        ],\n",
              "        [1.        , 0.        , 0.        ]],\n",
              "\n",
              "       [[0.        , 0.        , 0.        ],\n",
              "        [1.        , 0.        , 0.        ]],\n",
              "\n",
              "       [[0.        , 0.        , 0.        ],\n",
              "        [1.        , 0.        , 0.        ]],\n",
              "\n",
              "       [[0.        , 0.        , 0.        ],\n",
              "        [1.        , 0.        , 0.        ]],\n",
              "\n",
              "       [[0.        , 0.        , 0.        ],\n",
              "        [0.33333333, 0.66666667, 0.        ]]])"
            ]
          },
          "metadata": {
            "tags": []
          },
          "execution_count": 308
        }
      ]
    },
    {
      "cell_type": "code",
      "metadata": {
        "id": "tLJEfR44230U"
      },
      "source": [
        "# States = {Death, Survive}\r\n",
        "nactions = len(combos) # action set is list of unique drug combos\r\n",
        "nstates = 2 # two state probabilities\r\n",
        "\r\n",
        "# Initialize transition matrix\r\n",
        "transitions_2 = np.zeros((nactions,nstates))\r\n",
        "\r\n",
        "# Calculate probabilities\r\n",
        "for i in range(nactions):\r\n",
        "    inds = get_index_pos(list(lines_df_2['therapy']), combos[i])\r\n",
        "\r\n",
        "    d_prob = lines_df_2[['death']].iloc[inds, :].sum().values[0] / len(inds)\r\n",
        "\r\n",
        "    transitions_2[i][0] = d_prob\r\n",
        "    transitions_2[i][1] = 1 - d_prob"
      ],
      "execution_count": 309,
      "outputs": []
    },
    {
      "cell_type": "markdown",
      "metadata": {
        "id": "QUlmhy0GPXXH"
      },
      "source": [
        "Reward matrix"
      ]
    },
    {
      "cell_type": "code",
      "metadata": {
        "id": "oI8XZBJLPWYb"
      },
      "source": [
        ""
      ],
      "execution_count": 310,
      "outputs": []
    },
    {
      "cell_type": "markdown",
      "metadata": {
        "id": "QZLSsYJeheqC"
      },
      "source": [
        "## Environment\r\n",
        "\r\n",
        "Designed based on: https://github.com/MJeremy2017/reinforcement-learning-implementation/blob/master/GridWorld/gridWorld.py"
      ]
    },
    {
      "cell_type": "code",
      "metadata": {
        "id": "7KTmOQMxATBu"
      },
      "source": [
        "import random"
      ],
      "execution_count": 311,
      "outputs": []
    },
    {
      "cell_type": "markdown",
      "metadata": {
        "id": "OZX71-HbqIf9"
      },
      "source": [
        "State Class"
      ]
    },
    {
      "cell_type": "code",
      "metadata": {
        "id": "vh4gKHOnAydB"
      },
      "source": [
        "# Globals\r\n",
        "START_STATE = 'T'\r\n",
        "START_COMBO = []\r\n",
        "DETERMINISTIC = True\r\n",
        "LEARN_RATE = 0.2\r\n",
        "EXP_RATE = 0.3\r\n",
        "\r\n",
        "class State:\r\n",
        "    def __init__(self, state=START, combo=START_COMBO):\r\n",
        "        self.state = state\r\n",
        "        self.combo = combo\r\n",
        "        self.isEnd = False\r\n",
        "        self.determine = DETERMINISTIC\r\n",
        "\r\n",
        "    # Give reward: for now, simple rewards\r\n",
        "    def giveReward(self):\r\n",
        "        if self.state == 'N':\r\n",
        "            return 1 \r\n",
        "        elif self.state == 'T':\r\n",
        "            return 0.5\r\n",
        "        elif self.state == 'D':\r\n",
        "            return -1 \r\n",
        "    \r\n",
        "    def isEndFunc(self):\r\n",
        "        if self.state == 'D':\r\n",
        "            self.isEnd = True\r\n",
        "\r\n",
        "    # Update step\r\n",
        "    def nxtPosition(self, action):\r\n",
        "        act = action[0]\r\n",
        "        drug = action[1]\r\n",
        "        if self.determine:\r\n",
        "            # Update drug combo\r\n",
        "            if act == '+': \r\n",
        "                self.combo.append(drug)\r\n",
        "            elif act == '-':\r\n",
        "                self.combo.remove(drug)\r\n",
        "            else:\r\n",
        "                pass\r\n",
        "            self.combo.sort()\r\n",
        "            \r\n",
        "            # Choose probabilities from transition matrix\r\n",
        "            probs = get_probs(self.combo, self.state)\r\n",
        "            # Return next state\r\n",
        "            nxtState = random.choices(state_set, weights=probs, k=1)[0]\r\n",
        "            return nxtState"
      ],
      "execution_count": 346,
      "outputs": []
    },
    {
      "cell_type": "markdown",
      "metadata": {
        "id": "cdgwb3ALqMS5"
      },
      "source": [
        "Agent Class"
      ]
    },
    {
      "cell_type": "code",
      "metadata": {
        "id": "9Rub4E2hlARd"
      },
      "source": [
        "class Agent:\r\n",
        "    def __init__(self):\r\n",
        "        self.State = State()        \r\n",
        "        self.s_a = []\r\n",
        "        self.actions = [['+','Carboplatin'], ['+', 'Paclitaxel'], ['','']]\r\n",
        "\r\n",
        "        self.lr = LEARN_RATE\r\n",
        "        self.exp_rate = EXP_RATE\r\n",
        "\r\n",
        "        # initial state and action reward\r\n",
        "        self.state_values = {'N':1, 'T':0.5, 'D':-1}       # not sure if need these, need action values instead. Can it be like: Combo: Value - xt?\r\n",
        "        self.statevals_list = [1, 0.5, -1]      # for [N, T, D]\r\n",
        "        self.s_a_values = {} \r\n",
        "        for i in state_set:\r\n",
        "            for j in combos:\r\n",
        "                self.s_a_values[repr([i, j])] = 0\r\n",
        "    \r\n",
        "    # Choose Action: Try with just Carboplatin and Paclitaxel\r\n",
        "    def chooseAction(self):\r\n",
        "        # choose action with most expected value\r\n",
        "        mx_exp_reward = 0\r\n",
        "        if self.State.combo == []: \r\n",
        "            self.actions = [['+','Carboplatin'], ['+', 'Paclitaxel'], ['','']]\r\n",
        "        elif self.State.combo == ['Carboplatin', 'Paclitaxel']: \r\n",
        "            self.actions = [['-','Carboplatin'], ['-', 'Paclitaxel'], ['','']]\r\n",
        "        elif self.State.combo == ['Carboplatin']:\r\n",
        "            self.actions = [['+', 'Paclitaxel'], ['-','Carboplatin'], ['','']]\r\n",
        "        elif self.State.combo == ['Paclitaxel']:\r\n",
        "            self.actions = [['+','Carboplatin'], ['-', 'Paclitaxel'], ['','']]\r\n",
        "\r\n",
        "        if np.random.uniform(0, 1) <= self.exp_rate:\r\n",
        "            action = self.actions[np.random.choice(len(self.actions))]\r\n",
        "        else:\r\n",
        "            # greedy action\r\n",
        "            for a in self.actions:\r\n",
        "                # if the action is deterministic\r\n",
        "                ####################################### Don't need this if use combos as actions\r\n",
        "                test_combo = self.State.combo.copy()\r\n",
        "                act = a[0]\r\n",
        "                drug = a[1]\r\n",
        "                if act == '+': \r\n",
        "                    test_combo.append(drug)\r\n",
        "                elif act == '-':\r\n",
        "                    test_combo.remove(drug)\r\n",
        "                else:\r\n",
        "                    pass\r\n",
        "                test_combo.sort()\r\n",
        "                #######################################\r\n",
        "                probs = get_probs(test_combo, self.State.state)\r\n",
        "\r\n",
        "                exp_reward = sum(x * y for x, y in zip(probs, self.statevals_list))\r\n",
        "                if exp_reward >= mx_exp_reward:\r\n",
        "                    action = a\r\n",
        "                    mx_exp_reward = exp_reward\r\n",
        "        return action\r\n",
        "\r\n",
        "    def takeAction(self, action):\r\n",
        "        position = self.State.nxtPosition(action)\r\n",
        "        return State(state=position, combo=self.State.combo)\r\n",
        "\r\n",
        "    def reset(self):\r\n",
        "        self.s_a = []\r\n",
        "        self.State = State()\r\n",
        "\r\n",
        "    def play(self, rounds=10):\r\n",
        "        i = 0\r\n",
        "        while i < rounds:\r\n",
        "            # to the end of game back propagate reward\r\n",
        "            if self.State.isEnd:\r\n",
        "                # back propagate\r\n",
        "                reward = self.State.giveReward()\r\n",
        "                # explicitly assign end state to reward values\r\n",
        "                self.s_a_values[repr([self.State.state, self.State.combo])] = reward  # this is optional\r\n",
        "                for s in reversed(self.s_a):\r\n",
        "                    reward = self.s_a_values[repr([s[0], s[1]])] + self.lr * (reward - self.s_a_values[repr([s[0], s[1]])]) # I think i need to update this formula because using (s,a) now\r\n",
        "                    self.s_a_values[repr([s[0], s[1]])] = reward\r\n",
        "                # Calculate total reward\r\n",
        "                total_reward = 0\r\n",
        "                for s in self.s_a:\r\n",
        "                    total_reward += self.state_values[s[0]]\r\n",
        "                print(self.s_a)\r\n",
        "                print('Total reward: ', total_reward)\r\n",
        "\r\n",
        "                self.reset()\r\n",
        "                i += 1\r\n",
        "            else:\r\n",
        "                action = self.chooseAction()\r\n",
        "                # append trace\r\n",
        "                self.s_a.append([self.State.state, self.State.combo])\r\n",
        "                # print('current state {} action {}'.format(self.State.state, self.State.combo))\r\n",
        "                # by taking the action, it reaches the next state\r\n",
        "                self.State = self.takeAction(action)\r\n",
        "                # mark is end\r\n",
        "                self.State.isEndFunc()\r\n",
        "                # print('nxt state', self.State.state)\r\n",
        "                # print('---------------------')"
      ],
      "execution_count": 357,
      "outputs": []
    },
    {
      "cell_type": "markdown",
      "metadata": {
        "id": "jpBhfZoBSw10"
      },
      "source": [
        "Treat patients"
      ]
    },
    {
      "cell_type": "code",
      "metadata": {
        "id": "7o5Wl8r3Sv-4",
        "colab": {
          "base_uri": "https://localhost:8080/"
        },
        "outputId": "26206d05-f35c-4f6a-d8a9-e962488f356f"
      },
      "source": [
        "if __name__ == '__main__':\r\n",
        "    ag = Agent()\r\n",
        "    ag.play()\r\n",
        "    print(ag.s_a_values)"
      ],
      "execution_count": 358,
      "outputs": [
        {
          "output_type": "stream",
          "text": [
            "[['T', ['Carboplatin', 'Paclitaxel']], ['N', ['Carboplatin', 'Paclitaxel']]]\n",
            "Total reward:  1.5\n",
            "[['T', ['Carboplatin', 'Paclitaxel']], ['N', ['Carboplatin', 'Paclitaxel']], ['T', ['Carboplatin', 'Paclitaxel']], ['N', ['Carboplatin', 'Paclitaxel']], ['T', ['Carboplatin', 'Paclitaxel']], ['N', ['Carboplatin', 'Paclitaxel']], ['T', ['Carboplatin', 'Paclitaxel']], ['N', ['Carboplatin', 'Paclitaxel']], ['T', ['Carboplatin', 'Paclitaxel']], ['N', ['Carboplatin', 'Paclitaxel']]]\n",
            "Total reward:  7.5\n",
            "[['T', []], ['N', []], ['T', []], ['N', []], ['T', []], ['T', []], ['N', []], ['T', []]]\n",
            "Total reward:  5.5\n",
            "[['T', ['Carboplatin']], ['N', ['Carboplatin']]]\n",
            "Total reward:  1.5\n",
            "[['T', ['Carboplatin']], ['T', ['Carboplatin']], ['N', ['Carboplatin']], ['T', ['Carboplatin']], ['N', ['Carboplatin']], ['T', ['Carboplatin']], ['N', ['Carboplatin']], ['T', ['Carboplatin']], ['N', ['Carboplatin']]]\n",
            "Total reward:  6.5\n",
            "[['T', ['Carboplatin']]]\n",
            "Total reward:  0.5\n",
            "[['T', ['Carboplatin', 'Paclitaxel']], ['N', ['Carboplatin', 'Paclitaxel']], ['T', ['Carboplatin', 'Paclitaxel']], ['N', ['Carboplatin', 'Paclitaxel']], ['T', ['Carboplatin', 'Paclitaxel']], ['T', ['Carboplatin', 'Paclitaxel']], ['N', ['Carboplatin', 'Paclitaxel']]]\n",
            "Total reward:  5.0\n",
            "[['T', ['Carboplatin']], ['N', ['Carboplatin']], ['T', ['Carboplatin']], ['N', ['Carboplatin']], ['T', ['Carboplatin']], ['N', ['Carboplatin']], ['T', ['Carboplatin']], ['N', ['Carboplatin']], ['T', ['Carboplatin']], ['T', ['Carboplatin']]]\n",
            "Total reward:  7.0\n",
            "[['T', ['Carboplatin', 'Paclitaxel']], ['N', ['Carboplatin', 'Paclitaxel']], ['T', ['Carboplatin', 'Paclitaxel']], ['N', ['Carboplatin', 'Paclitaxel']], ['T', ['Carboplatin', 'Paclitaxel']], ['N', ['Carboplatin', 'Paclitaxel']]]\n",
            "Total reward:  4.5\n",
            "[['T', ['Carboplatin']], ['N', ['Carboplatin']], ['T', ['Carboplatin']], ['N', ['Carboplatin']], ['T', ['Carboplatin']], ['N', ['Carboplatin']]]\n",
            "Total reward:  4.5\n",
            "{\"['N', []]\": -0.081984, \"['N', ['Abagovomab']]\": 0, \"['N', ['Aldesleukin']]\": 0, \"['N', ['Altretamine']]\": 0, \"['N', ['Amifostine', 'Carboplatin', 'Cisplatin', 'Paclitaxel']]\": 0, \"['N', ['Amifostine', 'Carboplatin', 'Paclitaxel']]\": 0, \"['N', ['Amifostine', 'Cisplatin', 'Paclitaxel']]\": 0, \"['N', ['Amifostine', 'Paclitaxel']]\": 0, \"['N', ['Aminocamptothecin']]\": 0, \"['N', ['Anastrozole']]\": 0, \"['N', ['Anastrozole', 'Doxorubicin']]\": 0, \"['N', ['Anastrozole', 'Tamoxifen']]\": 0, \"['N', ['Bevacizumab']]\": 0, \"['N', ['Bevacizumab', 'Carboplatin']]\": 0, \"['N', ['Bevacizumab', 'Carboplatin', 'Docetaxel']]\": 0, \"['N', ['Bevacizumab', 'Carboplatin', 'Gemcitabine']]\": 0, \"['N', ['Bevacizumab', 'Carboplatin', 'Paclitaxel']]\": 0, \"['N', ['Bevacizumab', 'Cisplatin', 'Paclitaxel']]\": 0, \"['N', ['Bevacizumab', 'Cyclophosphamide']]\": 0, \"['N', ['Bevacizumab', 'Docetaxel']]\": 0, \"['N', ['Bevacizumab', 'Docetaxel', 'Oxaliplatin']]\": 0, \"['N', ['Bevacizumab', 'Doxorubicin']]\": 0, \"['N', ['Bevacizumab', 'Fluorouracil+Leucovorin']]\": 0, \"['N', ['Bevacizumab', 'Gemcitabine']]\": 0, \"['N', ['Bevacizumab', 'Paclitaxel']]\": 0, \"['N', ['Bevacizumab', 'Topotecan']]\": 0, \"['N', ['Bevacizumab', 'Topotecan', 'Vinorelbine']]\": 0, \"['N', ['Bevacizumab', 'Vinorelbine']]\": 0, \"['N', ['CBP501']]\": 0, \"['N', ['CEP -11981']]\": 0, \"['N', ['Capecitabine']]\": 0, \"['N', ['Capecitabine', 'Docetaxel']]\": 0, \"['N', ['Carboplatin']]\": -0.4636415697631282, \"['N', ['Carboplatin', 'Cediranib', 'Paclitaxel']]\": 0, \"['N', ['Carboplatin', 'Cetuximab', 'Paclitaxel']]\": 0, \"['N', ['Carboplatin', 'Cisplatin', 'Docetaxel', 'Paclitaxel']]\": 0, \"['N', ['Carboplatin', 'Cisplatin', 'Gemcitabine']]\": 0, \"['N', ['Carboplatin', 'Cisplatin', 'Paclitaxel']]\": 0, \"['N', ['Carboplatin', 'Cyclophosphamide']]\": 0, \"['N', ['Carboplatin', 'Cyclophosphamide', 'Topotecan']]\": 0, \"['N', ['Carboplatin', 'Docetaxel']]\": 0, \"['N', ['Carboplatin', 'Docetaxel', 'Doxorubicin']]\": 0, \"['N', ['Carboplatin', 'Docetaxel', 'Letrozole', 'Leuprolide']]\": 0, \"['N', ['Carboplatin', 'Docetaxel', 'Leuprolide']]\": 0, \"['N', ['Carboplatin', 'Docetaxel', 'Paclitaxel']]\": 0, \"['N', ['Carboplatin', 'Docetaxel', 'Tamoxifen']]\": 0, \"['N', ['Carboplatin', 'Doxorubicin']]\": 0, \"['N', ['Carboplatin', 'Doxorubicin', 'Gemcitabine', 'Paclitaxel', 'Topotecan']]\": 0, \"['N', ['Carboplatin', 'Doxorubicin', 'Paclitaxel']]\": 0, \"['N', ['Carboplatin', 'Etoposide']]\": 0, \"['N', ['Carboplatin', 'Gemcitabine']]\": 0, \"['N', ['Carboplatin', 'Gemcitabine', 'Paclitaxel']]\": 0, \"['N', ['Carboplatin', 'Gemcitabine', 'Tamoxifen']]\": 0, \"['N', ['Carboplatin', 'Ifosfamide']]\": 0, \"['N', ['Carboplatin', 'Oregovomab', 'Paclitaxel']]\": 0, \"['N', ['Carboplatin', 'Paclitaxel']]\": -0.42254038318351117, \"['N', ['Carboplatin', 'Paclitaxel', 'SCH 58500']]\": 0, \"['N', ['Carboplatin', 'Paclitaxel', 'Tamoxifen']]\": 0, \"['N', ['Carboplatin', 'Paclitaxel', 'Topotecan']]\": 0, \"['N', ['Carboplatin', 'Paclitaxel', 'Trastuzumab']]\": 0, \"['N', ['Carboplatin', 'Paclitaxel', 'Vinorelbine']]\": 0, \"['N', ['Carboplatin', 'Pemetrexed']]\": 0, \"['N', ['Carboplatin', 'Tamoxifen']]\": 0, \"['N', ['Catumaxomab']]\": 0, \"['N', ['Cediranib']]\": 0, \"['N', ['Cetuximab']]\": 0, \"['N', ['Cetuximab', 'Cisplatin', 'Paclitaxel']]\": 0, \"['N', ['Chlorambucil']]\": 0, \"['N', ['Cisplatin']]\": 0, \"['N', ['Cisplatin', 'Cyclophosphamide']]\": 0, \"['N', ['Cisplatin', 'Cyclophosphamide', 'Doxorubicin', 'Paclitaxel']]\": 0, \"['N', ['Cisplatin', 'Docetaxel']]\": 0, \"['N', ['Cisplatin', 'Docetaxel', 'Paclitaxel']]\": 0, \"['N', ['Cisplatin', 'Doxorubicin', 'Paclitaxel']]\": 0, \"['N', ['Cisplatin', 'Gemcitabine']]\": 0, \"['N', ['Cisplatin', 'Paclitaxel']]\": 0, \"['N', ['Cisplatin', 'Tamoxifen']]\": 0, \"['N', ['Cisplatin', 'Topotecan']]\": 0, \"['N', ['Cyclophosphamide']]\": 0, \"['N', ['Cyclophosphamide', 'Dexamethasone', 'Mitoxantrone', 'Vincristine']]\": 0, \"['N', ['Cyclophosphamide', 'Dexamethasone', 'Vincristine']]\": 0, \"['N', ['Cyclophosphamide', 'Paclitaxel']]\": 0, \"['N', ['Docetaxel']]\": 0, \"['N', ['Docetaxel', 'Doxorubicin', 'Paclitaxel', 'Topotecan']]\": 0, \"['N', ['Docetaxel', 'Gemcitabine']]\": 0, \"['N', ['Docetaxel', 'Lily']]\": 0, \"['N', ['Docetaxel', 'Oxaliplatin']]\": 0, \"['N', ['Docetaxel', 'Topotecan']]\": 0, \"['N', ['Docetaxel', 'Trastuzumab']]\": 0, \"['N', ['Dortezomib']]\": 0, \"['N', ['Doxorubicin']]\": 0, \"['N', ['Doxorubicin', 'Gefitinib', 'Topotecan']]\": 0, \"['N', ['Doxorubicin', 'Gemcitabine']]\": 0, \"['N', ['Doxorubicin', 'Gemcitabine', 'Topotecan']]\": 0, \"['N', ['Doxorubicin', 'Irinotecan', 'Vinorelbine']]\": 0, \"['N', ['Doxorubicin', 'Paclitaxel']]\": 0, \"['N', ['Doxorubicin', 'Tamoxifen']]\": 0, \"['N', ['Doxorubicin', 'Topotecan']]\": 0, \"['N', ['Etoposide']]\": 0, \"['N', ['Etoposide', 'Gemcitabine']]\": 0, \"['N', ['Gemcitabine']]\": 0, \"['N', ['Gemcitabine', 'Paclitaxel']]\": 0, \"['N', ['Gemcitabine', 'Tamoxifen']]\": 0, \"['N', ['Gemcitabine', 'Topotecan']]\": 0, \"['N', ['Gemcitabine', 'Vinorelbine']]\": 0, \"['N', ['Ifosfamide']]\": 0, \"['N', ['Ilex']]\": 0, \"['N', ['Irofulven']]\": 0, \"['N', ['Letrozole']]\": 0, \"['N', ['Letrozole', 'Leuprolide']]\": 0, \"['N', ['Megestrol']]\": 0, \"['N', ['Motesanib']]\": 0, \"['N', ['NOS']]\": 0, \"['N', ['Oregovomab']]\": 0, \"['N', ['Oxaliplatin']]\": 0, \"['N', ['Paclitaxel']]\": 0, \"['N', ['Paclitaxel', 'Topotecan']]\": 0, \"['N', ['Patupilone']]\": 0, \"['N', ['Sargramostim']]\": 0, \"['N', ['Sorafenib']]\": 0, \"['N', ['Tamoxifen']]\": 0, \"['N', ['Tamoxifen', 'Topotecan']]\": 0, \"['N', ['Topotecan']]\": 0, \"['N', ['Topotecan', 'Vinorelbine']]\": 0, \"['N', ['Trabectedin']]\": 0, \"['N', ['Vamydex']]\": 0, \"['N', ['Vinorelbine']]\": 0, \"['N', ['Vosaroxin']]\": 0, \"['T', []]\": -0.1344128, \"['T', ['Abagovomab']]\": 0, \"['T', ['Aldesleukin']]\": 0, \"['T', ['Altretamine']]\": 0, \"['T', ['Amifostine', 'Carboplatin', 'Cisplatin', 'Paclitaxel']]\": 0, \"['T', ['Amifostine', 'Carboplatin', 'Paclitaxel']]\": 0, \"['T', ['Amifostine', 'Cisplatin', 'Paclitaxel']]\": 0, \"['T', ['Amifostine', 'Paclitaxel']]\": 0, \"['T', ['Aminocamptothecin']]\": 0, \"['T', ['Anastrozole']]\": 0, \"['T', ['Anastrozole', 'Doxorubicin']]\": 0, \"['T', ['Anastrozole', 'Tamoxifen']]\": 0, \"['T', ['Bevacizumab']]\": 0, \"['T', ['Bevacizumab', 'Carboplatin']]\": 0, \"['T', ['Bevacizumab', 'Carboplatin', 'Docetaxel']]\": 0, \"['T', ['Bevacizumab', 'Carboplatin', 'Gemcitabine']]\": 0, \"['T', ['Bevacizumab', 'Carboplatin', 'Paclitaxel']]\": 0, \"['T', ['Bevacizumab', 'Cisplatin', 'Paclitaxel']]\": 0, \"['T', ['Bevacizumab', 'Cyclophosphamide']]\": 0, \"['T', ['Bevacizumab', 'Docetaxel']]\": 0, \"['T', ['Bevacizumab', 'Docetaxel', 'Oxaliplatin']]\": 0, \"['T', ['Bevacizumab', 'Doxorubicin']]\": 0, \"['T', ['Bevacizumab', 'Fluorouracil+Leucovorin']]\": 0, \"['T', ['Bevacizumab', 'Gemcitabine']]\": 0, \"['T', ['Bevacizumab', 'Paclitaxel']]\": 0, \"['T', ['Bevacizumab', 'Topotecan']]\": 0, \"['T', ['Bevacizumab', 'Topotecan', 'Vinorelbine']]\": 0, \"['T', ['Bevacizumab', 'Vinorelbine']]\": 0, \"['T', ['CBP501']]\": 0, \"['T', ['CEP -11981']]\": 0, \"['T', ['Capecitabine']]\": 0, \"['T', ['Capecitabine', 'Docetaxel']]\": 0, \"['T', ['Carboplatin']]\": -0.4340278198660733, \"['T', ['Carboplatin', 'Cediranib', 'Paclitaxel']]\": 0, \"['T', ['Carboplatin', 'Cetuximab', 'Paclitaxel']]\": 0, \"['T', ['Carboplatin', 'Cisplatin', 'Docetaxel', 'Paclitaxel']]\": 0, \"['T', ['Carboplatin', 'Cisplatin', 'Gemcitabine']]\": 0, \"['T', ['Carboplatin', 'Cisplatin', 'Paclitaxel']]\": 0, \"['T', ['Carboplatin', 'Cyclophosphamide']]\": 0, \"['T', ['Carboplatin', 'Cyclophosphamide', 'Topotecan']]\": 0, \"['T', ['Carboplatin', 'Docetaxel']]\": 0, \"['T', ['Carboplatin', 'Docetaxel', 'Doxorubicin']]\": 0, \"['T', ['Carboplatin', 'Docetaxel', 'Letrozole', 'Leuprolide']]\": 0, \"['T', ['Carboplatin', 'Docetaxel', 'Leuprolide']]\": 0, \"['T', ['Carboplatin', 'Docetaxel', 'Paclitaxel']]\": 0, \"['T', ['Carboplatin', 'Docetaxel', 'Tamoxifen']]\": 0, \"['T', ['Carboplatin', 'Doxorubicin']]\": 0, \"['T', ['Carboplatin', 'Doxorubicin', 'Gemcitabine', 'Paclitaxel', 'Topotecan']]\": 0, \"['T', ['Carboplatin', 'Doxorubicin', 'Paclitaxel']]\": 0, \"['T', ['Carboplatin', 'Etoposide']]\": 0, \"['T', ['Carboplatin', 'Gemcitabine']]\": 0, \"['T', ['Carboplatin', 'Gemcitabine', 'Paclitaxel']]\": 0, \"['T', ['Carboplatin', 'Gemcitabine', 'Tamoxifen']]\": 0, \"['T', ['Carboplatin', 'Ifosfamide']]\": 0, \"['T', ['Carboplatin', 'Oregovomab', 'Paclitaxel']]\": 0, \"['T', ['Carboplatin', 'Paclitaxel']]\": -0.3585361953234553, \"['T', ['Carboplatin', 'Paclitaxel', 'SCH 58500']]\": 0, \"['T', ['Carboplatin', 'Paclitaxel', 'Tamoxifen']]\": 0, \"['T', ['Carboplatin', 'Paclitaxel', 'Topotecan']]\": 0, \"['T', ['Carboplatin', 'Paclitaxel', 'Trastuzumab']]\": 0, \"['T', ['Carboplatin', 'Paclitaxel', 'Vinorelbine']]\": 0, \"['T', ['Carboplatin', 'Pemetrexed']]\": 0, \"['T', ['Carboplatin', 'Tamoxifen']]\": 0, \"['T', ['Catumaxomab']]\": 0, \"['T', ['Cediranib']]\": 0, \"['T', ['Cetuximab']]\": 0, \"['T', ['Cetuximab', 'Cisplatin', 'Paclitaxel']]\": 0, \"['T', ['Chlorambucil']]\": 0, \"['T', ['Cisplatin']]\": 0, \"['T', ['Cisplatin', 'Cyclophosphamide']]\": 0, \"['T', ['Cisplatin', 'Cyclophosphamide', 'Doxorubicin', 'Paclitaxel']]\": 0, \"['T', ['Cisplatin', 'Docetaxel']]\": 0, \"['T', ['Cisplatin', 'Docetaxel', 'Paclitaxel']]\": 0, \"['T', ['Cisplatin', 'Doxorubicin', 'Paclitaxel']]\": 0, \"['T', ['Cisplatin', 'Gemcitabine']]\": 0, \"['T', ['Cisplatin', 'Paclitaxel']]\": 0, \"['T', ['Cisplatin', 'Tamoxifen']]\": 0, \"['T', ['Cisplatin', 'Topotecan']]\": 0, \"['T', ['Cyclophosphamide']]\": 0, \"['T', ['Cyclophosphamide', 'Dexamethasone', 'Mitoxantrone', 'Vincristine']]\": 0, \"['T', ['Cyclophosphamide', 'Dexamethasone', 'Vincristine']]\": 0, \"['T', ['Cyclophosphamide', 'Paclitaxel']]\": 0, \"['T', ['Docetaxel']]\": 0, \"['T', ['Docetaxel', 'Doxorubicin', 'Paclitaxel', 'Topotecan']]\": 0, \"['T', ['Docetaxel', 'Gemcitabine']]\": 0, \"['T', ['Docetaxel', 'Lily']]\": 0, \"['T', ['Docetaxel', 'Oxaliplatin']]\": 0, \"['T', ['Docetaxel', 'Topotecan']]\": 0, \"['T', ['Docetaxel', 'Trastuzumab']]\": 0, \"['T', ['Dortezomib']]\": 0, \"['T', ['Doxorubicin']]\": 0, \"['T', ['Doxorubicin', 'Gefitinib', 'Topotecan']]\": 0, \"['T', ['Doxorubicin', 'Gemcitabine']]\": 0, \"['T', ['Doxorubicin', 'Gemcitabine', 'Topotecan']]\": 0, \"['T', ['Doxorubicin', 'Irinotecan', 'Vinorelbine']]\": 0, \"['T', ['Doxorubicin', 'Paclitaxel']]\": 0, \"['T', ['Doxorubicin', 'Tamoxifen']]\": 0, \"['T', ['Doxorubicin', 'Topotecan']]\": 0, \"['T', ['Etoposide']]\": 0, \"['T', ['Etoposide', 'Gemcitabine']]\": 0, \"['T', ['Gemcitabine']]\": 0, \"['T', ['Gemcitabine', 'Paclitaxel']]\": 0, \"['T', ['Gemcitabine', 'Tamoxifen']]\": 0, \"['T', ['Gemcitabine', 'Topotecan']]\": 0, \"['T', ['Gemcitabine', 'Vinorelbine']]\": 0, \"['T', ['Ifosfamide']]\": 0, \"['T', ['Ilex']]\": 0, \"['T', ['Irofulven']]\": 0, \"['T', ['Letrozole']]\": 0, \"['T', ['Letrozole', 'Leuprolide']]\": 0, \"['T', ['Megestrol']]\": 0, \"['T', ['Motesanib']]\": 0, \"['T', ['NOS']]\": 0, \"['T', ['Oregovomab']]\": 0, \"['T', ['Oxaliplatin']]\": 0, \"['T', ['Paclitaxel']]\": 0, \"['T', ['Paclitaxel', 'Topotecan']]\": 0, \"['T', ['Patupilone']]\": 0, \"['T', ['Sargramostim']]\": 0, \"['T', ['Sorafenib']]\": 0, \"['T', ['Tamoxifen']]\": 0, \"['T', ['Tamoxifen', 'Topotecan']]\": 0, \"['T', ['Topotecan']]\": 0, \"['T', ['Topotecan', 'Vinorelbine']]\": 0, \"['T', ['Trabectedin']]\": 0, \"['T', ['Vamydex']]\": 0, \"['T', ['Vinorelbine']]\": 0, \"['T', ['Vosaroxin']]\": 0, \"['D', []]\": -1, \"['D', ['Abagovomab']]\": 0, \"['D', ['Aldesleukin']]\": 0, \"['D', ['Altretamine']]\": 0, \"['D', ['Amifostine', 'Carboplatin', 'Cisplatin', 'Paclitaxel']]\": 0, \"['D', ['Amifostine', 'Carboplatin', 'Paclitaxel']]\": 0, \"['D', ['Amifostine', 'Cisplatin', 'Paclitaxel']]\": 0, \"['D', ['Amifostine', 'Paclitaxel']]\": 0, \"['D', ['Aminocamptothecin']]\": 0, \"['D', ['Anastrozole']]\": 0, \"['D', ['Anastrozole', 'Doxorubicin']]\": 0, \"['D', ['Anastrozole', 'Tamoxifen']]\": 0, \"['D', ['Bevacizumab']]\": 0, \"['D', ['Bevacizumab', 'Carboplatin']]\": 0, \"['D', ['Bevacizumab', 'Carboplatin', 'Docetaxel']]\": 0, \"['D', ['Bevacizumab', 'Carboplatin', 'Gemcitabine']]\": 0, \"['D', ['Bevacizumab', 'Carboplatin', 'Paclitaxel']]\": 0, \"['D', ['Bevacizumab', 'Cisplatin', 'Paclitaxel']]\": 0, \"['D', ['Bevacizumab', 'Cyclophosphamide']]\": 0, \"['D', ['Bevacizumab', 'Docetaxel']]\": 0, \"['D', ['Bevacizumab', 'Docetaxel', 'Oxaliplatin']]\": 0, \"['D', ['Bevacizumab', 'Doxorubicin']]\": 0, \"['D', ['Bevacizumab', 'Fluorouracil+Leucovorin']]\": 0, \"['D', ['Bevacizumab', 'Gemcitabine']]\": 0, \"['D', ['Bevacizumab', 'Paclitaxel']]\": 0, \"['D', ['Bevacizumab', 'Topotecan']]\": 0, \"['D', ['Bevacizumab', 'Topotecan', 'Vinorelbine']]\": 0, \"['D', ['Bevacizumab', 'Vinorelbine']]\": 0, \"['D', ['CBP501']]\": 0, \"['D', ['CEP -11981']]\": 0, \"['D', ['Capecitabine']]\": 0, \"['D', ['Capecitabine', 'Docetaxel']]\": 0, \"['D', ['Carboplatin']]\": -1, \"['D', ['Carboplatin', 'Cediranib', 'Paclitaxel']]\": 0, \"['D', ['Carboplatin', 'Cetuximab', 'Paclitaxel']]\": 0, \"['D', ['Carboplatin', 'Cisplatin', 'Docetaxel', 'Paclitaxel']]\": 0, \"['D', ['Carboplatin', 'Cisplatin', 'Gemcitabine']]\": 0, \"['D', ['Carboplatin', 'Cisplatin', 'Paclitaxel']]\": 0, \"['D', ['Carboplatin', 'Cyclophosphamide']]\": 0, \"['D', ['Carboplatin', 'Cyclophosphamide', 'Topotecan']]\": 0, \"['D', ['Carboplatin', 'Docetaxel']]\": 0, \"['D', ['Carboplatin', 'Docetaxel', 'Doxorubicin']]\": 0, \"['D', ['Carboplatin', 'Docetaxel', 'Letrozole', 'Leuprolide']]\": 0, \"['D', ['Carboplatin', 'Docetaxel', 'Leuprolide']]\": 0, \"['D', ['Carboplatin', 'Docetaxel', 'Paclitaxel']]\": 0, \"['D', ['Carboplatin', 'Docetaxel', 'Tamoxifen']]\": 0, \"['D', ['Carboplatin', 'Doxorubicin']]\": 0, \"['D', ['Carboplatin', 'Doxorubicin', 'Gemcitabine', 'Paclitaxel', 'Topotecan']]\": 0, \"['D', ['Carboplatin', 'Doxorubicin', 'Paclitaxel']]\": 0, \"['D', ['Carboplatin', 'Etoposide']]\": 0, \"['D', ['Carboplatin', 'Gemcitabine']]\": 0, \"['D', ['Carboplatin', 'Gemcitabine', 'Paclitaxel']]\": 0, \"['D', ['Carboplatin', 'Gemcitabine', 'Tamoxifen']]\": 0, \"['D', ['Carboplatin', 'Ifosfamide']]\": 0, \"['D', ['Carboplatin', 'Oregovomab', 'Paclitaxel']]\": 0, \"['D', ['Carboplatin', 'Paclitaxel']]\": -1, \"['D', ['Carboplatin', 'Paclitaxel', 'SCH 58500']]\": 0, \"['D', ['Carboplatin', 'Paclitaxel', 'Tamoxifen']]\": 0, \"['D', ['Carboplatin', 'Paclitaxel', 'Topotecan']]\": 0, \"['D', ['Carboplatin', 'Paclitaxel', 'Trastuzumab']]\": 0, \"['D', ['Carboplatin', 'Paclitaxel', 'Vinorelbine']]\": 0, \"['D', ['Carboplatin', 'Pemetrexed']]\": 0, \"['D', ['Carboplatin', 'Tamoxifen']]\": 0, \"['D', ['Catumaxomab']]\": 0, \"['D', ['Cediranib']]\": 0, \"['D', ['Cetuximab']]\": 0, \"['D', ['Cetuximab', 'Cisplatin', 'Paclitaxel']]\": 0, \"['D', ['Chlorambucil']]\": 0, \"['D', ['Cisplatin']]\": 0, \"['D', ['Cisplatin', 'Cyclophosphamide']]\": 0, \"['D', ['Cisplatin', 'Cyclophosphamide', 'Doxorubicin', 'Paclitaxel']]\": 0, \"['D', ['Cisplatin', 'Docetaxel']]\": 0, \"['D', ['Cisplatin', 'Docetaxel', 'Paclitaxel']]\": 0, \"['D', ['Cisplatin', 'Doxorubicin', 'Paclitaxel']]\": 0, \"['D', ['Cisplatin', 'Gemcitabine']]\": 0, \"['D', ['Cisplatin', 'Paclitaxel']]\": 0, \"['D', ['Cisplatin', 'Tamoxifen']]\": 0, \"['D', ['Cisplatin', 'Topotecan']]\": 0, \"['D', ['Cyclophosphamide']]\": 0, \"['D', ['Cyclophosphamide', 'Dexamethasone', 'Mitoxantrone', 'Vincristine']]\": 0, \"['D', ['Cyclophosphamide', 'Dexamethasone', 'Vincristine']]\": 0, \"['D', ['Cyclophosphamide', 'Paclitaxel']]\": 0, \"['D', ['Docetaxel']]\": 0, \"['D', ['Docetaxel', 'Doxorubicin', 'Paclitaxel', 'Topotecan']]\": 0, \"['D', ['Docetaxel', 'Gemcitabine']]\": 0, \"['D', ['Docetaxel', 'Lily']]\": 0, \"['D', ['Docetaxel', 'Oxaliplatin']]\": 0, \"['D', ['Docetaxel', 'Topotecan']]\": 0, \"['D', ['Docetaxel', 'Trastuzumab']]\": 0, \"['D', ['Dortezomib']]\": 0, \"['D', ['Doxorubicin']]\": 0, \"['D', ['Doxorubicin', 'Gefitinib', 'Topotecan']]\": 0, \"['D', ['Doxorubicin', 'Gemcitabine']]\": 0, \"['D', ['Doxorubicin', 'Gemcitabine', 'Topotecan']]\": 0, \"['D', ['Doxorubicin', 'Irinotecan', 'Vinorelbine']]\": 0, \"['D', ['Doxorubicin', 'Paclitaxel']]\": 0, \"['D', ['Doxorubicin', 'Tamoxifen']]\": 0, \"['D', ['Doxorubicin', 'Topotecan']]\": 0, \"['D', ['Etoposide']]\": 0, \"['D', ['Etoposide', 'Gemcitabine']]\": 0, \"['D', ['Gemcitabine']]\": 0, \"['D', ['Gemcitabine', 'Paclitaxel']]\": 0, \"['D', ['Gemcitabine', 'Tamoxifen']]\": 0, \"['D', ['Gemcitabine', 'Topotecan']]\": 0, \"['D', ['Gemcitabine', 'Vinorelbine']]\": 0, \"['D', ['Ifosfamide']]\": 0, \"['D', ['Ilex']]\": 0, \"['D', ['Irofulven']]\": 0, \"['D', ['Letrozole']]\": 0, \"['D', ['Letrozole', 'Leuprolide']]\": 0, \"['D', ['Megestrol']]\": 0, \"['D', ['Motesanib']]\": 0, \"['D', ['NOS']]\": 0, \"['D', ['Oregovomab']]\": 0, \"['D', ['Oxaliplatin']]\": 0, \"['D', ['Paclitaxel']]\": 0, \"['D', ['Paclitaxel', 'Topotecan']]\": 0, \"['D', ['Patupilone']]\": 0, \"['D', ['Sargramostim']]\": 0, \"['D', ['Sorafenib']]\": 0, \"['D', ['Tamoxifen']]\": 0, \"['D', ['Tamoxifen', 'Topotecan']]\": 0, \"['D', ['Topotecan']]\": 0, \"['D', ['Topotecan', 'Vinorelbine']]\": 0, \"['D', ['Trabectedin']]\": 0, \"['D', ['Vamydex']]\": 0, \"['D', ['Vinorelbine']]\": 0, \"['D', ['Vosaroxin']]\": 0}\n"
          ],
          "name": "stdout"
        }
      ]
    },
    {
      "cell_type": "markdown",
      "metadata": {
        "id": "t4G7VixwubZe"
      },
      "source": [
        "## Scratch/notes"
      ]
    },
    {
      "cell_type": "markdown",
      "metadata": {
        "id": "lhzLwojuFxnC"
      },
      "source": [
        "Notes\r\n",
        "* Add in \"remission\" as a state (i.e. no treatment)\r\n",
        "  - Calculate similar to probability of death: probability that a no-treatment period follows a treatment\r\n",
        "  - Then need to calculate probability following \"remission\" for each:\r\n",
        "    - Death\r\n",
        "    - remission, i.e. no treatment\r\n",
        "    - More treatment i.e. \"progression/recurrence\" \r\n",
        "  - No-treatment (\"[]\") will not be in the action set\r\n",
        "    - Unless already in the no-treatment state\r\n",
        "    - Importantly, this means that the agent cannot decide to take a patient off of treatement. Not being on chemo is not a choice made by the AI \"doctor\", but rather, is a result of the previous treatment. Agent can, however, choose not to add drugs if already achieved remission (i.e. in the no-treatment state) \r\n",
        "\r\n",
        "* \"Grid world\" verion of action space\r\n",
        "  - 56 dimensional object with up to 5 drugs activated at once\r\n",
        "  - Action set is [Start drug {n}, Stop drug {n}, Do nothing]\r\n",
        "    - Cannot [Stop drug {n}] if resulting state is no treatment\r\n",
        "    - Cannot [Start drug {n}] if resulting len(combo) > 5\r\n",
        "    - Cannot start a drug that is already in the combo\r\n",
        "  - \\> 4mm possible combinations, only 127 drug combos in data - is this necessary? \r\n",
        "\r\n",
        "* Rewards\r\n",
        "  - I think in the final version this should be a probability distribution returning a number of days of survival/until treatment failure after each action\r\n",
        "  - For starters, just try to get the average days survived when therapy doesn't result in death.\r\n",
        "  - Also need to think of something for when patients don't die\r\n",
        "    - Maybe just probability of death and a final non-death stop state?\r\n",
        "    - Death vs. no death in the end doesn't matter unless the no deaths get a final reward\r\n",
        "\r\n",
        "* Bellman action value equation: Q(s,a) = r + γ(max(Q(s’,a’))\r\n",
        "  - \"This says that the Q-value for a given state (s) and action (a) should represent the current reward (r) plus the maximum discounted (γ) future reward expected according to our own table for the next state (s’) we would end up in\"\r\n",
        "\r\n",
        "* Replay memory?"
      ]
    },
    {
      "cell_type": "markdown",
      "metadata": {
        "id": "i1T5dOpFDHsd"
      },
      "source": [
        "Intermittant reward matrix for each patient"
      ]
    },
    {
      "cell_type": "code",
      "metadata": {
        "id": "1kse5iCiC84F"
      },
      "source": [
        "# fix because including no drug periods and using df\r\n",
        "\r\n",
        "# tcga_rewards = {}\r\n",
        "# for barcode in tcga_lines_keys:\r\n",
        "#     rewards = []\r\n",
        "#     for line in range(len(tcga_drug_lines[barcode])):\r\n",
        "#         try:\r\n",
        "#             rewards.append(tcga_drug_lines[barcode][line+1][0] - tcga_drug_lines[barcode][line][0])\r\n",
        "#         except:\r\n",
        "#             rewards.append(tcga_ov_1_keep.loc[tcga_ov_1_keep['bcr_patient_barcode'] == barcode, 'total_days_overall_survival'].iloc[0] - tcga_drug_lines[barcode][line][0])\r\n",
        "\r\n",
        "#     tcga_rewards[barcode] = rewards\r\n",
        "\r\n",
        "# tcga_rewards"
      ],
      "execution_count": null,
      "outputs": []
    },
    {
      "cell_type": "code",
      "metadata": {
        "id": "se4yPE1y3pna"
      },
      "source": [
        "# negs = []\r\n",
        "# for barcode in tcga_rewards:\r\n",
        "#     if tcga_rewards[barcode][-1] < 0:\r\n",
        "#         negs.append(barcode)\r\n",
        "\r\n",
        "# negs"
      ],
      "execution_count": null,
      "outputs": []
    },
    {
      "cell_type": "code",
      "metadata": {
        "id": "3Rk6ADD7bzKc"
      },
      "source": [
        "# Add in final state for each patient: [time, 'death']\r\n",
        "# Figure out what to do with patients where overall survival is < the end of the last therapy line"
      ],
      "execution_count": null,
      "outputs": []
    },
    {
      "cell_type": "code",
      "metadata": {
        "id": "xaT1Me5DZm5I"
      },
      "source": [
        "# define transition matrix\r\n",
        "# def transition(state, action): \r\n",
        "#     if state,action = (living, drug A): \r\n",
        "#         then return 1 if np.random() < 0.8 …. \r\n",
        "        \r\n",
        "#     if state, action = (living, drug B), return 1 \r\n",
        "    \r\n",
        "#     if ..\r\n"
      ],
      "execution_count": null,
      "outputs": []
    }
  ]
}