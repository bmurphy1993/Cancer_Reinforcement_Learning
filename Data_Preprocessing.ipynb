{
  "nbformat": 4,
  "nbformat_minor": 0,
  "metadata": {
    "colab": {
      "name": "Data_Preprocessing.ipynb",
      "provenance": [],
      "collapsed_sections": [],
      "authorship_tag": "ABX9TyOSHFAB03nAwKMJtubJJWPU"
    },
    "kernelspec": {
      "name": "python3",
      "display_name": "Python 3"
    }
  },
  "cells": [
    {
      "cell_type": "markdown",
      "metadata": {
        "id": "G-bec3cCXsVx"
      },
      "source": [
        "# Data Exploration and Preprocessing\n",
        "TCGA Reannotated Ovarian Cancer Clinical Data "
      ]
    },
    {
      "cell_type": "code",
      "metadata": {
        "id": "mTx2g1keOEjc"
      },
      "source": [
        "import numpy as np\n",
        "import pandas as pd\n",
        "from functools import reduce\n",
        "import itertools\n",
        "import math\n",
        "import random\n",
        "import torch\n",
        "import torch.nn as nn\n",
        "import torch.optim as optim\n",
        "import torch.nn.functional as F\n",
        "from collections import namedtuple\n",
        "\n",
        "device = torch.device('cpu')"
      ],
      "execution_count": 236,
      "outputs": []
    },
    {
      "cell_type": "markdown",
      "metadata": {
        "id": "68TNefuaXmnW"
      },
      "source": [
        "Import Data"
      ]
    },
    {
      "cell_type": "code",
      "metadata": {
        "id": "kEYLFUOhRVru"
      },
      "source": [
        "# Villalobos 2018 reannotated TCGA data (https://ascopubs.org/doi/suppl/10.1200/CCI.17.00096)\n",
        "tcga_ov_1 = pd.read_excel('https://github.com/bmurphy1993/Cancer_Reinforcement_Learning/raw/main/Data/Villalobos_TCGA/ds_CCI.17.00096-1.xlsx',\n",
        "                          sheet_name='Master clinical dataset'\n",
        "                          )\n",
        "\n",
        "tcga_ov_2 = pd.read_excel('https://github.com/bmurphy1993/Cancer_Reinforcement_Learning/raw/main/Data/Villalobos_TCGA/ds_CCI.17.00096-2.xlsx',\n",
        "                          sheet_name='Months'\n",
        "                          )\n",
        "\n",
        "tcga_ov_3 = pd.read_excel('https://github.com/bmurphy1993/Cancer_Reinforcement_Learning/raw/main/Data/Villalobos_TCGA/ds_CCI.17.00096-3.xlsx',\n",
        "                          sheet_name='clinical_drug_all_OV.txt'\n",
        "                          )\n",
        "\n",
        "# TCGA Drug standardization (https://gdisc.bme.gatech.edu/cgi-bin/gdisc/tap5.cgi#)\n",
        "drugs = pd.read_csv('https://raw.githubusercontent.com/bmurphy1993/Cancer_Reinforcement_Learning/main/Data/DrugCorrection1.csv')\n",
        "drugs['Correction'] = drugs['Correction'].str.strip()"
      ],
      "execution_count": 237,
      "outputs": []
    },
    {
      "cell_type": "markdown",
      "metadata": {
        "id": "M2uBW25GhHv_"
      },
      "source": [
        "## Clean and Reorganize"
      ]
    },
    {
      "cell_type": "markdown",
      "metadata": {
        "id": "TgbCL7brzOid"
      },
      "source": [
        "TCGA 3: Clean"
      ]
    },
    {
      "cell_type": "code",
      "metadata": {
        "id": "C8ZXyxh_Yo7J",
        "colab": {
          "base_uri": "https://localhost:8080/"
        },
        "outputId": "2760169e-47f0-4789-c306-c3402cde0ba9"
      },
      "source": [
        "# Drop columns with all missing values\n",
        "print(tcga_ov_3.shape)\n",
        "print(tcga_ov_3.isnull().sum(), '\\n')\n",
        "tcga_ov_3_drop = tcga_ov_3.dropna(axis=1, how='all')\n",
        "# Drop rows where drug is missing\n",
        "tcga_ov_3_drop = tcga_ov_3_drop[tcga_ov_3_drop['drug_name'].notna()]\n",
        "# Drop rows where start AND end are missing (right now it's actuall OR, see below)\n",
        "tcga_ov_3_drop = tcga_ov_3_drop.dropna(how='any', subset=['days_to_drug_therapy_end', 'days_to_drug_therapy_start']) #change to how='all' when figure out what to do with start OR end missing\n",
        "\n",
        "# Standardize drug names\n",
        "    # Merge using values from TCGA drug standardization (https://gdisc.bme.gatech.edu/cgi-bin/gdisc/tap5.cgi)\n",
        "tcga_ov_3_clean = tcga_ov_3_drop.merge(drugs, how='left', left_on='drug_name', right_on='OldName').drop(['OldName'], axis=1)\n",
        "    # Additional replacement rules\n",
        "tcga_ov_3_clean.loc[tcga_ov_3_clean['drug_name'] == 'Doxoribicin', 'Correction'] = 'Doxorubicin'\n",
        "tcga_ov_3_clean.loc[tcga_ov_3_clean['drug_name'] == 'gemcitabin', 'Correction'] = 'Gemcitabine'\n",
        "tcga_ov_3_clean.loc[tcga_ov_3_clean['drug_name'] == 'Hexlalen', 'Correction'] = 'Altretamine'\n",
        "tcga_ov_3_clean.loc[tcga_ov_3_clean['drug_name'] == 'Cisplatin/Gemzar', 'Correction'] = 'Cisplatin' # This applies to only one line, which has another sample just for Gemzar (Gemcitabine)\n",
        "tcga_ov_3_clean.loc[tcga_ov_3_clean['drug_name'] == 'Ilex', 'Correction'] = 'Ilex'\n",
        "tcga_ov_3_clean.loc[tcga_ov_3_clean['drug_name'] == 'ILIZ', 'Correction'] = 'ILIZ'\n",
        "tcga_ov_3_clean.loc[tcga_ov_3_clean['drug_name'] == 'Lily', 'Correction'] = 'Lily'\n",
        "\n",
        "    # Print replacement rules and replace 'drug_name'\n",
        "drug_name_old = tcga_ov_3_clean['drug_name']\n",
        "drug_name_new = tcga_ov_3_clean['Correction']\n",
        "rules = pd.DataFrame({'drug_name_old': drug_name_old, 'drug_name_new': drug_name_new}).drop_duplicates().sort_values(by=['drug_name_old']).reset_index().drop('index', axis=1)\n",
        "\n",
        "pd.set_option('display.max_rows', None)\n",
        "print('Replacement Rules:\\n', rules.head(), '\\n')\n",
        "pd.reset_option('max_rows')\n",
        "\n",
        "tcga_ov_3_clean['drug_name'] = tcga_ov_3_clean['Correction']\n",
        "tcga_ov_3_clean = tcga_ov_3_clean.drop('Correction', axis=1)\n",
        "\n",
        "    # List of drugs in dataset\n",
        "drug_list = [x for x in list(tcga_ov_3_clean['drug_name'].drop_duplicates()) if str(x) != 'nan']\n",
        "drug_list.sort()\n",
        "print('Unique Drugs:', len(drug_list), '\\n', drug_list, '\\n')\n",
        "\n",
        "# Drop where therapy start = therapy end\n",
        "tcga_ov_3_clean = tcga_ov_3_clean[tcga_ov_3_clean['days_to_drug_therapy_end'] != tcga_ov_3_clean['days_to_drug_therapy_start']] "
      ],
      "execution_count": 238,
      "outputs": [
        {
          "output_type": "stream",
          "text": [
            "(2463, 19)\n",
            "bcr_patient_barcode                 0\n",
            "bcr_drug_barcode                    0\n",
            "days_to_drug_therapy_end          339\n",
            "days_to_drug_therapy_start        145\n",
            "days_to_drug_treatment_end       2463\n",
            "days_to_drug_treatment_start     2463\n",
            "dosage_units                     2463\n",
            "drug_category                       0\n",
            "drug_dosage                      2463\n",
            "drug_name                          11\n",
            "initial_course                   2463\n",
            "number_cycles                     391\n",
            "regimen_indication                  2\n",
            "regimen_indication_notes         2328\n",
            "route_of_administration           243\n",
            "route_of_administration_notes    2126\n",
            "therapy_ongoing                   167\n",
            "total_dose                        746\n",
            "total_dose_units                  715\n",
            "dtype: int64 \n",
            "\n",
            "Replacement Rules:\n",
            "            drug_name_old            drug_name_new\n",
            "0         5F4 Leucovorin  Fluorouracil+Leucovorin\n",
            "1            90Y-HU3S193                  Hu3S193\n",
            "2                AMG 706                Motesanib\n",
            "3  Abagovomab or Placebo               Abagovomab\n",
            "4  Abagovomag vs Placebo               Abagovomab \n",
            "\n",
            "Unique Drugs: 56 \n",
            " ['Abagovomab', 'Aldesleukin', 'Altretamine', 'Amifostine', 'Aminocamptothecin', 'Anastrozole', 'Bevacizumab', 'CBP501', 'CEP -11981', 'Capecitabine', 'Carboplatin', 'Catumaxomab', 'Cediranib', 'Cetuximab', 'Chlorambucil', 'Cisplatin', 'Cyclophosphamide', 'Dexamethasone', 'Docetaxel', 'Dortezomib', 'Doxorubicin', 'Etoposide', 'Fluorouracil+Leucovorin', 'Gefitinib', 'Gemcitabine', 'Hu3S193', 'Ifosfamide', 'Ilex', 'Irinotecan', 'Irofulven', 'Letrozole', 'Leuprolide', 'Lily', 'Megestrol', 'Mitoxantrone', 'Motesanib', 'NOS', 'Oregovomab', 'Oxaliplatin', 'Paclitaxel', 'Paclitaxel+Carboplatin', 'Patupilone', 'Pemetrexed', 'SCH 58500', 'Sargramostim', 'Sorafenib', 'Tamoxifen', 'Topotecan', 'Topotecan+Carboplatin', 'Trabectedin', 'Trastuzumab', 'Vamydex', 'Vincristine', 'Vinorelbine', 'Vosaroxin', 'rBBX-01'] \n",
            "\n"
          ],
          "name": "stdout"
        }
      ]
    },
    {
      "cell_type": "markdown",
      "metadata": {
        "id": "RlpTIsomL8nT"
      },
      "source": [
        "TCGA 3: Fix/standardize time variables and fix order of therapy lines"
      ]
    },
    {
      "cell_type": "code",
      "metadata": {
        "id": "ycWmppEk6d5o"
      },
      "source": [
        "# Fix values where start and end are switched\n",
        "tcga_ov_3_clean.loc[tcga_ov_3_clean['days_to_drug_therapy_start'] > tcga_ov_3_clean['days_to_drug_therapy_end'], ['days_to_drug_therapy_start', 'days_to_drug_therapy_end']] = tcga_ov_3_clean.loc[tcga_ov_3_clean['days_to_drug_therapy_start'] > tcga_ov_3_clean['days_to_drug_therapy_end'], ['days_to_drug_therapy_end', 'days_to_drug_therapy_start']].values\n",
        "\n",
        "# Set earliest drug therapy start to zero and subtract everything else by min days\n",
        "ther_start = tcga_ov_3_clean.groupby('bcr_patient_barcode')['days_to_drug_therapy_start']\n",
        "tcga_timefix = tcga_ov_3_clean.assign(start_day=ther_start.transform(min))\n",
        "      # keep start days for later use with tcga_ov_1\n",
        "tcga_start_days = tcga_timefix[['bcr_patient_barcode', 'start_day']].drop_duplicates()\n",
        "\n",
        "tcga_timefix['therapy_start'] = tcga_timefix['days_to_drug_therapy_start'] - tcga_timefix['start_day']\n",
        "tcga_timefix['therapy_end'] = tcga_timefix['days_to_drug_therapy_end'] - tcga_timefix['start_day']\n",
        "tcga_timefix = tcga_timefix.drop(['days_to_drug_therapy_end', 'days_to_drug_therapy_start', 'start_day'], axis=1)\n",
        "tcga_timefix = tcga_timefix.sort_values(by=['bcr_patient_barcode', 'therapy_start', 'therapy_end'])\n",
        "\n",
        "# Set up state list for each patient: barcode, timing, drug combo\n",
        "tcga_drug_lines = []\n",
        "for barcode in tcga_timefix['bcr_patient_barcode'].unique():\n",
        "    tcga_time = tcga_timefix[tcga_timefix['bcr_patient_barcode'] == barcode]\n",
        "    tcga_time = tcga_time[['therapy_start', 'therapy_end', 'drug_name']].drop_duplicates(keep='first').values.tolist() # Drop duplicate drugs that have different dosages or administration but same timing\n",
        "\n",
        "    points = [] # list of (offset, plus/minus, drug) tuples\n",
        "    for start,stop,drug in tcga_time:\n",
        "        points.append((start,'+',drug))\n",
        "        points.append((stop,'-',drug))\n",
        "    points.sort()\n",
        "\n",
        "    ranges = [] # output list of (start, stop, drug_set) tuples\n",
        "    current_set = []\n",
        "    last_start = None\n",
        "    for offset,pm,drug in points:\n",
        "        if pm == '+':\n",
        "            if last_start is not None:\n",
        "                ranges.append([last_start,offset,list(set(current_set.copy()))])\n",
        "            current_set.append(drug)\n",
        "            last_start = offset\n",
        "        elif pm == '-':\n",
        "            ranges.append([last_start,offset,list(set(current_set.copy()))])\n",
        "            current_set.remove(drug)\n",
        "            last_start = offset\n",
        "\n",
        "    # Finish off\n",
        "    if last_start is not None:\n",
        "        ranges.append([last_start,offset,list(set(current_set.copy()))])\n",
        "\n",
        "    # Remove the ranges where start = stop\n",
        "    range_drug = []\n",
        "    for i in range(len(ranges)):\n",
        "        if ranges[i][0] != ranges[i][1]: # add condition:  <& (ranges[i][2] != [])> to drop no-drug periods\n",
        "            range_drug.append(ranges[i])\n",
        "\n",
        "    # Sort drugs in each drug combo\n",
        "    for i in range(len(range_drug)):\n",
        "        range_drug[i][2].sort()\n",
        "\n",
        "    # Remove overlapping/back-to-back duplicate lines. Drop this section if decide to do something with dosages\n",
        "    ranges_final = []\n",
        "    for line in range(0, len(range_drug)-1):\n",
        "        if (range_drug[line+1][2] == range_drug[line][2]) & (range_drug[line+1][0] <= range_drug[line][1]):\n",
        "            range_drug[line][1] = range_drug[line+1][1]\n",
        "            range_drug[line+1][0] = range_drug[line][0]\n",
        "        if (range_drug[line][2] != range_drug[line+1][2]) | (range_drug[line][0] != range_drug[line+1][0]):\n",
        "            ranges_final.append(range_drug[line])\n",
        "    # if (range_drug[len(range_drug)-1][2] != range_drug[len(range_drug)-2][2]) | (range_drug[len(range_drug)-1][0] != range_drug[len(range_drug)-2][0]):\n",
        "    ranges_final.append(range_drug[len(range_drug)-1])\n",
        "\n",
        "    # Add the number of previous lines of therapy\n",
        "    for line in range(len(ranges_final)):\n",
        "        if line == 0:\n",
        "            ranges_final[line].append(0) \n",
        "        elif ranges_final[line-1][2] == []:\n",
        "            ranges_final[line].append(ranges_final[line-1][3])\n",
        "        else:\n",
        "            ranges_final[line].append(ranges_final[line-1][3] + 1)\n",
        "    \n",
        "    # Add treat transition var\n",
        "    for line in range(len(ranges_final)):\n",
        "        try:\n",
        "            if (ranges_final[line][2] != []) & (ranges_final[line+1][2] != []):\n",
        "                ranges_final[line].append(math.ceil((ranges_final[line][1] - ranges_final[line][0]) / 30))\n",
        "            elif (ranges_final[line][2] != []) & (ranges_final[line+1][2] == []):\n",
        "                ranges_final[line].append(math.ceil((ranges_final[line][1] - ranges_final[line][0]) / 30) - 1)\n",
        "            elif (ranges_final[line][2] == []) & (ranges_final[line+1][2] != []):\n",
        "                ranges_final[line].append(1)\n",
        "            elif (ranges_final[line][2] == []) & (ranges_final[line+1][2] == []):\n",
        "                ranges_final[line].append(0)\n",
        "        except IndexError:\n",
        "            ranges_final[line].append(0)\n",
        "    \n",
        "    # Add no treat transition var\n",
        "    for line in range(len(ranges_final)):\n",
        "        try:\n",
        "            if (ranges_final[line][2] != []) & (ranges_final[line+1][2] != []):\n",
        "                ranges_final[line].append(0)                \n",
        "            elif (ranges_final[line][2] != []) & (ranges_final[line+1][2] == []):\n",
        "                ranges_final[line].append(1)\n",
        "            elif (ranges_final[line][2] == []) & (ranges_final[line+1][2] != []):\n",
        "                ranges_final[line].append(math.ceil((ranges_final[line][1] - ranges_final[line][0]) / 30) - 1)\n",
        "            elif (ranges_final[line][2] == []) & (ranges_final[line+1][2] == []):\n",
        "                ranges_final[line].append(math.ceil((ranges_final[line][1] - ranges_final[line][0]) / 30))\n",
        "        except IndexError:\n",
        "            ranges_final[line].append(math.ceil((ranges_final[line][1] - ranges_final[line][0]) / 30))\n",
        "\n",
        "    # Add patient barcodes\n",
        "    for line in range(len(ranges_final)):\n",
        "        ranges_final[line].insert(0, barcode)\n",
        "    \n",
        "\n",
        "    tcga_drug_lines.extend(ranges_final)\n",
        "\n",
        "tcga_drug_lines[3] = ['TCGA-04-1332', 0.0, 151.0, ['Carboplatin', 'Paclitaxel', 'Topotecan'], 0, 5, 1] # Special case to fix. Make sure to check this if make changes above\n",
        "\n",
        "# Back to df\n",
        "lines_df = pd.DataFrame(tcga_drug_lines, columns=['bcr_patient_barcode', 'start', 'end', 'therapy', 'previous_lines', 'treat', 'no_treat'])\n",
        "\n",
        "# List of patient barcodes\n",
        "tcga_barcodes = list(lines_df['bcr_patient_barcode'].unique())\n",
        "\n",
        "# Notes\n",
        "    # One thing to be aware of is that this code drops all values where therapy start and therapy end are equal\n",
        "    # Fix: drops all back to back duplicate treatment, should keep first (see TCGA-04-1365)"
      ],
      "execution_count": 239,
      "outputs": []
    },
    {
      "cell_type": "markdown",
      "metadata": {
        "id": "IX1joLnWxyzL"
      },
      "source": [
        "TCGA 1: Clean"
      ]
    },
    {
      "cell_type": "code",
      "metadata": {
        "id": "eH71y_18xy4L",
        "colab": {
          "base_uri": "https://localhost:8080/",
          "height": 603
        },
        "outputId": "4f8952d2-ddea-497a-9769-0881141d9053"
      },
      "source": [
        "# Keep subset of variables \n",
        "print('NaNs: ', tcga_ov_1.isnull().sum())\n",
        "tcga_ov_1_keep = tcga_ov_1[['bcr_patient_barcode',\n",
        "                            'total_days_overall_survival',\n",
        "                            'outcome_overall_survival_censoring',\n",
        "                            # 'vital_status',\n",
        "                            # 'days_to_tumor_progression',\n",
        "                            # 'days_to_death',\n",
        "                            # 'days_to_last_followup',\n",
        "                            # 'days_to_tumor_recurrence',\n",
        "                            # 'time_to_failure',  \n",
        "                            # 'Cycles_of_adjuvant_therapy',\n",
        "                            # 'Adjuvant_chemotherapy_dose_intensity',\n",
        "                            'age_at_initial_pathologic_diagnosis',\n",
        "                            # 'anatomic_organ_subdivision',\n",
        "                            # 'days_to_birth',\n",
        "                            # 'initial_pathologic_diagnosis_method',\n",
        "                            # 'person_neoplasm_cancer_status',\n",
        "                            # 'pretreatment_history',\n",
        "                            # 'primary_therapy_outcome_success', # ask EKO about this\n",
        "                            'race',\n",
        "                            # 'residual_tumor',\n",
        "                            # 'site_of_tumor_first_recurrence',\n",
        "                            # 'tissue_source_site',\n",
        "                            'tumor_grade',\n",
        "                            # 'tumor_residual_disease',\n",
        "                            'tumor_stage',\n",
        "                            # 'tumor_tissue_site'\n",
        "                            # 'year_of_initial_pathologic_diagnosis',\n",
        "                            # 'Days off platinum prior to recurrence 1st line',\n",
        "                            # 'Last day of platinum 1st line',\n",
        "                            # 'Chemotherapy number of lines of therapy'\n",
        "                            ]]\n",
        "\n",
        "# Drop cases that don't have a survival metric\n",
        "tcga_ov_1_keep = tcga_ov_1_keep.dropna(subset=['total_days_overall_survival'])\n",
        "tcga_ov_1_keep.drop(tcga_ov_1_keep[tcga_ov_1_keep['total_days_overall_survival'] == 'cannot assess'].index, inplace=True)\n",
        "\n",
        "# Only keep samples that are in the cleaned 'lines' data\n",
        "tcga_ov_1_keep = tcga_ov_1_keep[tcga_ov_1_keep['bcr_patient_barcode'].isin(tcga_barcodes)].sort_values(by=['bcr_patient_barcode']).reset_index().drop('index', axis=1)\n",
        "\n",
        "# Adjust final survival by start of therapy day\n",
        "tcga_start_days = tcga_start_days[tcga_start_days['bcr_patient_barcode'].isin(tcga_barcodes)].sort_values(by=['bcr_patient_barcode']).reset_index().drop('index', axis=1)\n",
        "tcga_ov_1_keep['total_days_overall_survival'] = tcga_ov_1_keep['total_days_overall_survival'] - tcga_start_days['start_day'] # this needs work, getting some negative values\n",
        "\n",
        "tcga_ov_1_keep"
      ],
      "execution_count": 240,
      "outputs": [
        {
          "output_type": "stream",
          "text": [
            "NaNs:  bcr_patient_barcode                                 4\n",
            "total_days_overall_survival                        28\n",
            "outcome_overall_survival_censoring                 16\n",
            "vital_status                                       34\n",
            "days_to_tumor_progression                         570\n",
            "                                                 ... \n",
            "5th_chemo_regimen_days_outcome                    524\n",
            "6th_chemo_regimen_days_outcome                    552\n",
            "Days off platinum prior to recurrence 1st line     99\n",
            "Last day of platinum 1st line                     108\n",
            "Chemotherapy number of lines of therapy            27\n",
            "Length: 72, dtype: int64\n"
          ],
          "name": "stdout"
        },
        {
          "output_type": "execute_result",
          "data": {
            "text/html": [
              "<div>\n",
              "<style scoped>\n",
              "    .dataframe tbody tr th:only-of-type {\n",
              "        vertical-align: middle;\n",
              "    }\n",
              "\n",
              "    .dataframe tbody tr th {\n",
              "        vertical-align: top;\n",
              "    }\n",
              "\n",
              "    .dataframe thead th {\n",
              "        text-align: right;\n",
              "    }\n",
              "</style>\n",
              "<table border=\"1\" class=\"dataframe\">\n",
              "  <thead>\n",
              "    <tr style=\"text-align: right;\">\n",
              "      <th></th>\n",
              "      <th>bcr_patient_barcode</th>\n",
              "      <th>total_days_overall_survival</th>\n",
              "      <th>outcome_overall_survival_censoring</th>\n",
              "      <th>age_at_initial_pathologic_diagnosis</th>\n",
              "      <th>race</th>\n",
              "      <th>tumor_grade</th>\n",
              "      <th>tumor_stage</th>\n",
              "    </tr>\n",
              "  </thead>\n",
              "  <tbody>\n",
              "    <tr>\n",
              "      <th>0</th>\n",
              "      <td>TCGA-04-1331</td>\n",
              "      <td>1300</td>\n",
              "      <td>1</td>\n",
              "      <td>79.0</td>\n",
              "      <td>WHITE</td>\n",
              "      <td>G3</td>\n",
              "      <td>IIIC</td>\n",
              "    </tr>\n",
              "    <tr>\n",
              "      <th>1</th>\n",
              "      <td>TCGA-04-1332</td>\n",
              "      <td>1217</td>\n",
              "      <td>1</td>\n",
              "      <td>70.0</td>\n",
              "      <td>WHITE</td>\n",
              "      <td>G3</td>\n",
              "      <td>IIIC</td>\n",
              "    </tr>\n",
              "    <tr>\n",
              "      <th>2</th>\n",
              "      <td>TCGA-04-1336</td>\n",
              "      <td>1445</td>\n",
              "      <td>0</td>\n",
              "      <td>55.0</td>\n",
              "      <td>WHITE</td>\n",
              "      <td>G3</td>\n",
              "      <td>IIIB</td>\n",
              "    </tr>\n",
              "    <tr>\n",
              "      <th>3</th>\n",
              "      <td>TCGA-04-1338</td>\n",
              "      <td>1418</td>\n",
              "      <td>0</td>\n",
              "      <td>78.0</td>\n",
              "      <td>WHITE</td>\n",
              "      <td>G3</td>\n",
              "      <td>IIIC</td>\n",
              "    </tr>\n",
              "    <tr>\n",
              "      <th>4</th>\n",
              "      <td>TCGA-04-1342</td>\n",
              "      <td>531</td>\n",
              "      <td>1</td>\n",
              "      <td>80.0</td>\n",
              "      <td>WHITE</td>\n",
              "      <td>G2</td>\n",
              "      <td>IV</td>\n",
              "    </tr>\n",
              "    <tr>\n",
              "      <th>...</th>\n",
              "      <td>...</td>\n",
              "      <td>...</td>\n",
              "      <td>...</td>\n",
              "      <td>...</td>\n",
              "      <td>...</td>\n",
              "      <td>...</td>\n",
              "      <td>...</td>\n",
              "    </tr>\n",
              "    <tr>\n",
              "      <th>455</th>\n",
              "      <td>TCGA-61-2113</td>\n",
              "      <td>627</td>\n",
              "      <td>1</td>\n",
              "      <td>54.0</td>\n",
              "      <td>WHITE</td>\n",
              "      <td>G3</td>\n",
              "      <td>IIC</td>\n",
              "    </tr>\n",
              "    <tr>\n",
              "      <th>456</th>\n",
              "      <td>TCGA-61-2610</td>\n",
              "      <td>1550</td>\n",
              "      <td>1</td>\n",
              "      <td>61.0</td>\n",
              "      <td>WHITE</td>\n",
              "      <td>G3</td>\n",
              "      <td>IIIC</td>\n",
              "    </tr>\n",
              "    <tr>\n",
              "      <th>457</th>\n",
              "      <td>TCGA-61-2611</td>\n",
              "      <td>417</td>\n",
              "      <td>1</td>\n",
              "      <td>40.0</td>\n",
              "      <td>WHITE</td>\n",
              "      <td>G3</td>\n",
              "      <td>IIIC</td>\n",
              "    </tr>\n",
              "    <tr>\n",
              "      <th>458</th>\n",
              "      <td>TCGA-61-2612</td>\n",
              "      <td>173</td>\n",
              "      <td>1</td>\n",
              "      <td>63.0</td>\n",
              "      <td>WHITE</td>\n",
              "      <td>G3</td>\n",
              "      <td>IIIC</td>\n",
              "    </tr>\n",
              "    <tr>\n",
              "      <th>459</th>\n",
              "      <td>TCGA-61-2613</td>\n",
              "      <td>561</td>\n",
              "      <td>1</td>\n",
              "      <td>73.0</td>\n",
              "      <td>WHITE</td>\n",
              "      <td>G3</td>\n",
              "      <td>IIIC</td>\n",
              "    </tr>\n",
              "  </tbody>\n",
              "</table>\n",
              "<p>460 rows × 7 columns</p>\n",
              "</div>"
            ],
            "text/plain": [
              "    bcr_patient_barcode total_days_overall_survival  ... tumor_grade  tumor_stage\n",
              "0          TCGA-04-1331                        1300  ...          G3         IIIC\n",
              "1          TCGA-04-1332                        1217  ...          G3         IIIC\n",
              "2          TCGA-04-1336                        1445  ...          G3         IIIB\n",
              "3          TCGA-04-1338                        1418  ...          G3         IIIC\n",
              "4          TCGA-04-1342                         531  ...          G2           IV\n",
              "..                  ...                         ...  ...         ...          ...\n",
              "455        TCGA-61-2113                         627  ...          G3          IIC\n",
              "456        TCGA-61-2610                        1550  ...          G3         IIIC\n",
              "457        TCGA-61-2611                         417  ...          G3         IIIC\n",
              "458        TCGA-61-2612                         173  ...          G3         IIIC\n",
              "459        TCGA-61-2613                         561  ...          G3         IIIC\n",
              "\n",
              "[460 rows x 7 columns]"
            ]
          },
          "metadata": {
            "tags": []
          },
          "execution_count": 240
        }
      ]
    },
    {
      "cell_type": "markdown",
      "metadata": {
        "id": "vRX2hrEOPvMu"
      },
      "source": [
        "Add death and no treatment dummies to drug lines data"
      ]
    },
    {
      "cell_type": "code",
      "metadata": {
        "id": "X95jfaknP5oS"
      },
      "source": [
        "# Merge in final death event for each patient\n",
        "lines_df_2 = lines_df.merge(tcga_ov_1_keep[['bcr_patient_barcode', 'outcome_overall_survival_censoring']], on='bcr_patient_barcode').rename(columns={'bcr_patient_barcode': 'patient', 'outcome_overall_survival_censoring': 'death'})\n",
        "\n",
        "# Only keep death event on last line\n",
        "lines_df_2.loc[lines_df_2['patient'] == lines_df_2['patient'].shift(-1), 'death'] = 0\n",
        "\n",
        "# Total events\n",
        "lines_df_2['total_ev'] = lines_df_2['treat'] + lines_df_2['no_treat'] + lines_df_2['death']\n",
        "\n",
        "# Function to get indices of a therapy\n",
        "def get_index_pos(my_list, val):\n",
        "    return [i for i, x in enumerate(my_list) if x == val]"
      ],
      "execution_count": 241,
      "outputs": []
    },
    {
      "cell_type": "code",
      "metadata": {
        "colab": {
          "base_uri": "https://localhost:8080/",
          "height": 402
        },
        "id": "kId5QzCmZie1",
        "outputId": "35f4770e-50e1-4f61-f167-82d64a05b284"
      },
      "source": [
        "# Create version of final dataset that only includes patients who died\n",
        "d_pats = list(tcga_ov_1_keep['bcr_patient_barcode'].loc[tcga_ov_1_keep['outcome_overall_survival_censoring'] == 1])\n",
        "\n",
        "lines_df_d = lines_df_2[lines_df_2['patient'].isin(d_pats)].reset_index().drop(['index'], axis=1)\n",
        "lines_df_d"
      ],
      "execution_count": 242,
      "outputs": [
        {
          "output_type": "execute_result",
          "data": {
            "text/html": [
              "<div>\n",
              "<style scoped>\n",
              "    .dataframe tbody tr th:only-of-type {\n",
              "        vertical-align: middle;\n",
              "    }\n",
              "\n",
              "    .dataframe tbody tr th {\n",
              "        vertical-align: top;\n",
              "    }\n",
              "\n",
              "    .dataframe thead th {\n",
              "        text-align: right;\n",
              "    }\n",
              "</style>\n",
              "<table border=\"1\" class=\"dataframe\">\n",
              "  <thead>\n",
              "    <tr style=\"text-align: right;\">\n",
              "      <th></th>\n",
              "      <th>patient</th>\n",
              "      <th>start</th>\n",
              "      <th>end</th>\n",
              "      <th>therapy</th>\n",
              "      <th>previous_lines</th>\n",
              "      <th>treat</th>\n",
              "      <th>no_treat</th>\n",
              "      <th>death</th>\n",
              "      <th>total_ev</th>\n",
              "    </tr>\n",
              "  </thead>\n",
              "  <tbody>\n",
              "    <tr>\n",
              "      <th>0</th>\n",
              "      <td>TCGA-04-1331</td>\n",
              "      <td>0.0</td>\n",
              "      <td>133.0</td>\n",
              "      <td>[Carboplatin, Paclitaxel]</td>\n",
              "      <td>0</td>\n",
              "      <td>4</td>\n",
              "      <td>1</td>\n",
              "      <td>0</td>\n",
              "      <td>5</td>\n",
              "    </tr>\n",
              "    <tr>\n",
              "      <th>1</th>\n",
              "      <td>TCGA-04-1331</td>\n",
              "      <td>133.0</td>\n",
              "      <td>445.0</td>\n",
              "      <td>[]</td>\n",
              "      <td>1</td>\n",
              "      <td>1</td>\n",
              "      <td>10</td>\n",
              "      <td>0</td>\n",
              "      <td>11</td>\n",
              "    </tr>\n",
              "    <tr>\n",
              "      <th>2</th>\n",
              "      <td>TCGA-04-1331</td>\n",
              "      <td>445.0</td>\n",
              "      <td>462.0</td>\n",
              "      <td>[Dortezomib]</td>\n",
              "      <td>1</td>\n",
              "      <td>0</td>\n",
              "      <td>1</td>\n",
              "      <td>1</td>\n",
              "      <td>2</td>\n",
              "    </tr>\n",
              "    <tr>\n",
              "      <th>3</th>\n",
              "      <td>TCGA-04-1332</td>\n",
              "      <td>0.0</td>\n",
              "      <td>151.0</td>\n",
              "      <td>[Carboplatin, Paclitaxel, Topotecan]</td>\n",
              "      <td>0</td>\n",
              "      <td>5</td>\n",
              "      <td>1</td>\n",
              "      <td>0</td>\n",
              "      <td>6</td>\n",
              "    </tr>\n",
              "    <tr>\n",
              "      <th>4</th>\n",
              "      <td>TCGA-04-1332</td>\n",
              "      <td>151.0</td>\n",
              "      <td>396.0</td>\n",
              "      <td>[]</td>\n",
              "      <td>1</td>\n",
              "      <td>1</td>\n",
              "      <td>8</td>\n",
              "      <td>0</td>\n",
              "      <td>9</td>\n",
              "    </tr>\n",
              "    <tr>\n",
              "      <th>...</th>\n",
              "      <td>...</td>\n",
              "      <td>...</td>\n",
              "      <td>...</td>\n",
              "      <td>...</td>\n",
              "      <td>...</td>\n",
              "      <td>...</td>\n",
              "      <td>...</td>\n",
              "      <td>...</td>\n",
              "      <td>...</td>\n",
              "    </tr>\n",
              "    <tr>\n",
              "      <th>1259</th>\n",
              "      <td>TCGA-61-2610</td>\n",
              "      <td>500.0</td>\n",
              "      <td>561.0</td>\n",
              "      <td>[]</td>\n",
              "      <td>2</td>\n",
              "      <td>1</td>\n",
              "      <td>2</td>\n",
              "      <td>0</td>\n",
              "      <td>3</td>\n",
              "    </tr>\n",
              "    <tr>\n",
              "      <th>1260</th>\n",
              "      <td>TCGA-61-2610</td>\n",
              "      <td>561.0</td>\n",
              "      <td>1101.0</td>\n",
              "      <td>[Doxorubicin]</td>\n",
              "      <td>2</td>\n",
              "      <td>0</td>\n",
              "      <td>18</td>\n",
              "      <td>1</td>\n",
              "      <td>19</td>\n",
              "    </tr>\n",
              "    <tr>\n",
              "      <th>1261</th>\n",
              "      <td>TCGA-61-2611</td>\n",
              "      <td>0.0</td>\n",
              "      <td>238.0</td>\n",
              "      <td>[Carboplatin, Paclitaxel]</td>\n",
              "      <td>0</td>\n",
              "      <td>0</td>\n",
              "      <td>8</td>\n",
              "      <td>1</td>\n",
              "      <td>9</td>\n",
              "    </tr>\n",
              "    <tr>\n",
              "      <th>1262</th>\n",
              "      <td>TCGA-61-2612</td>\n",
              "      <td>0.0</td>\n",
              "      <td>131.0</td>\n",
              "      <td>[Carboplatin, Paclitaxel]</td>\n",
              "      <td>0</td>\n",
              "      <td>0</td>\n",
              "      <td>5</td>\n",
              "      <td>1</td>\n",
              "      <td>6</td>\n",
              "    </tr>\n",
              "    <tr>\n",
              "      <th>1263</th>\n",
              "      <td>TCGA-61-2613</td>\n",
              "      <td>0.0</td>\n",
              "      <td>105.0</td>\n",
              "      <td>[Carboplatin, Paclitaxel]</td>\n",
              "      <td>0</td>\n",
              "      <td>0</td>\n",
              "      <td>4</td>\n",
              "      <td>1</td>\n",
              "      <td>5</td>\n",
              "    </tr>\n",
              "  </tbody>\n",
              "</table>\n",
              "<p>1264 rows × 9 columns</p>\n",
              "</div>"
            ],
            "text/plain": [
              "           patient  start     end  ... no_treat  death  total_ev\n",
              "0     TCGA-04-1331    0.0   133.0  ...        1      0         5\n",
              "1     TCGA-04-1331  133.0   445.0  ...       10      0        11\n",
              "2     TCGA-04-1331  445.0   462.0  ...        1      1         2\n",
              "3     TCGA-04-1332    0.0   151.0  ...        1      0         6\n",
              "4     TCGA-04-1332  151.0   396.0  ...        8      0         9\n",
              "...            ...    ...     ...  ...      ...    ...       ...\n",
              "1259  TCGA-61-2610  500.0   561.0  ...        2      0         3\n",
              "1260  TCGA-61-2610  561.0  1101.0  ...       18      1        19\n",
              "1261  TCGA-61-2611    0.0   238.0  ...        8      1         9\n",
              "1262  TCGA-61-2612    0.0   131.0  ...        5      1         6\n",
              "1263  TCGA-61-2613    0.0   105.0  ...        4      1         5\n",
              "\n",
              "[1264 rows x 9 columns]"
            ]
          },
          "metadata": {
            "tags": []
          },
          "execution_count": 242
        }
      ]
    },
    {
      "cell_type": "code",
      "metadata": {
        "colab": {
          "base_uri": "https://localhost:8080/"
        },
        "id": "7gL67qmnIRV4",
        "outputId": "c5eabe98-6744-46d0-c5a9-f5689a0cd450"
      },
      "source": [
        "test_list = list(lines_df_d['therapy'])\n",
        "test_list.sort()\n",
        "test_list = list(test_list for test_list,_ in itertools.groupby(test_list))\n",
        "\n",
        "print(len(test_list))\n",
        "print(test_list[0:10])"
      ],
      "execution_count": 243,
      "outputs": [
        {
          "output_type": "stream",
          "text": [
            "108\n",
            "[[], ['Aldesleukin'], ['Altretamine'], ['Amifostine', 'Carboplatin', 'Cisplatin', 'Paclitaxel'], ['Amifostine', 'Carboplatin', 'Paclitaxel'], ['Amifostine', 'Cisplatin', 'Paclitaxel'], ['Amifostine', 'Paclitaxel'], ['Aminocamptothecin'], ['Anastrozole'], ['Anastrozole', 'Doxorubicin']]\n"
          ],
          "name": "stdout"
        }
      ]
    },
    {
      "cell_type": "markdown",
      "metadata": {
        "id": "WnwEXGPRAq7A"
      },
      "source": [
        "## Create MDP objects\n",
        "\n",
        "* This should probably be the start of the next notebook"
      ]
    },
    {
      "cell_type": "markdown",
      "metadata": {
        "id": "ZvulJ_dUAv2h"
      },
      "source": [
        "State and Action set"
      ]
    },
    {
      "cell_type": "code",
      "metadata": {
        "id": "Ciq1VT6qIHUH",
        "colab": {
          "base_uri": "https://localhost:8080/"
        },
        "outputId": "321fd508-7692-4145-8519-23ddd96ea4a9"
      },
      "source": [
        "# States\n",
        "state_set = ['N', 'T', 'D']\n",
        "\n",
        "# Combos resulting from actions\n",
        "combos_all = list(lines_df_2['therapy'])\n",
        "combos_all.sort()\n",
        "combos_all = list(combos_all for combos_all,_ in itertools.groupby(combos_all))\n",
        "print(len(combos_all))\n",
        "print(combos_all[0:10])\n",
        "\n",
        "combos_all_drugs = combos_all.copy()\n",
        "combos_all_drugs.remove([])\n",
        "print(combos_all_drugs[0:10]) \n",
        "\n",
        "# Combos for deceased patients\n",
        "combos_d = list(lines_df_d['therapy'])\n",
        "\n",
        "combos_d.sort()\n",
        "combos_d = list(combos_d for combos_d,_ in itertools.groupby(combos_d))\n",
        "print(len(combos_d))\n",
        "print(combos_d[0:10])\n",
        "\n",
        "combos_drugs_d = combos_d.copy()\n",
        "combos_drugs_d.remove([])\n",
        "print(combos_drugs_d[0:10]) "
      ],
      "execution_count": 244,
      "outputs": [
        {
          "output_type": "stream",
          "text": [
            "128\n",
            "[[], ['Abagovomab'], ['Aldesleukin'], ['Altretamine'], ['Amifostine', 'Carboplatin', 'Cisplatin', 'Paclitaxel'], ['Amifostine', 'Carboplatin', 'Paclitaxel'], ['Amifostine', 'Cisplatin', 'Paclitaxel'], ['Amifostine', 'Paclitaxel'], ['Aminocamptothecin'], ['Anastrozole']]\n",
            "[['Abagovomab'], ['Aldesleukin'], ['Altretamine'], ['Amifostine', 'Carboplatin', 'Cisplatin', 'Paclitaxel'], ['Amifostine', 'Carboplatin', 'Paclitaxel'], ['Amifostine', 'Cisplatin', 'Paclitaxel'], ['Amifostine', 'Paclitaxel'], ['Aminocamptothecin'], ['Anastrozole'], ['Anastrozole', 'Doxorubicin']]\n",
            "108\n",
            "[[], ['Aldesleukin'], ['Altretamine'], ['Amifostine', 'Carboplatin', 'Cisplatin', 'Paclitaxel'], ['Amifostine', 'Carboplatin', 'Paclitaxel'], ['Amifostine', 'Cisplatin', 'Paclitaxel'], ['Amifostine', 'Paclitaxel'], ['Aminocamptothecin'], ['Anastrozole'], ['Anastrozole', 'Doxorubicin']]\n",
            "[['Aldesleukin'], ['Altretamine'], ['Amifostine', 'Carboplatin', 'Cisplatin', 'Paclitaxel'], ['Amifostine', 'Carboplatin', 'Paclitaxel'], ['Amifostine', 'Cisplatin', 'Paclitaxel'], ['Amifostine', 'Paclitaxel'], ['Aminocamptothecin'], ['Anastrozole'], ['Anastrozole', 'Doxorubicin'], ['Anastrozole', 'Tamoxifen']]\n"
          ],
          "name": "stdout"
        }
      ]
    },
    {
      "cell_type": "markdown",
      "metadata": {
        "id": "fuspJEgVFPKy"
      },
      "source": [
        "Transition matrix"
      ]
    },
    {
      "cell_type": "code",
      "metadata": {
        "colab": {
          "base_uri": "https://localhost:8080/"
        },
        "id": "9twC_Md7dh2H",
        "outputId": "21c9075b-3cd8-4695-bbf8-cecb3e37e962"
      },
      "source": [
        "# this cell is just for looking at stuff\n",
        "lines_df_2.head(20)"
      ],
      "execution_count": 254,
      "outputs": [
        {
          "output_type": "execute_result",
          "data": {
            "text/plain": [
              "['Bevacizumab']"
            ]
          },
          "metadata": {
            "tags": []
          },
          "execution_count": 254
        }
      ]
    },
    {
      "cell_type": "code",
      "metadata": {
        "colab": {
          "base_uri": "https://localhost:8080/"
        },
        "id": "DEeUFm3ZM8RU",
        "outputId": "0bcf7d3f-2c6a-410c-c70d-b3173b3f1b72"
      },
      "source": [
        "# States = {No Treatment, Treatment, Death}\n",
        "combos = combos_d # Switch to _all when use full dataset\n",
        "combos_drugs = combos_drugs_d\n",
        "\n",
        "nactions = len(combos) # action set is list of unique drug combos, not including choosing no drugs\n",
        "nstates = len(state_set) # three state probabilities\n",
        "\n",
        "# Initialize transition matrix\n",
        "transitions = np.zeros((nactions,nstates-1,nstates))\n",
        "print('T_a shape:\\n',\n",
        "      '   N  T  D\\n',\n",
        "      'N', transitions[0][0],'\\n',\n",
        "      'T', transitions[0][1])\n",
        "\n",
        "# Calculate probabilities\n",
        "for i in range(nactions):\n",
        "    inds = get_index_pos(list(lines_df_2['therapy']), combos[i])\n",
        "    \n",
        "    n_prob = lines_df_2[['no_treat']].iloc[inds, :].sum().values[0] / lines_df_2[['total_ev']].iloc[inds, :].sum().values[0]\n",
        "    t_prob = lines_df_2[['treat']].iloc[inds, :].sum().values[0] / lines_df_2[['total_ev']].iloc[inds, :].sum().values[0]\n",
        "    d_prob = lines_df_2[['death']].iloc[inds, :].sum().values[0] / lines_df_2[['total_ev']].iloc[inds, :].sum().values[0]\n",
        "    # placeholder so that every action has a chance of death. Will update with regression to calc probs\n",
        "    # if d_prob == 0:\n",
        "    #   d_prob = .1\n",
        "    #   n_prob = n_prob - (d_prob / 2)\n",
        "    #   t_prob = t_prob - (d_prob / 2)\n",
        "    ###################################################################################################\n",
        "\n",
        "    if combos[i] == []:\n",
        "        # N --> \n",
        "        transitions[i][0][0] = n_prob\n",
        "        transitions[i][0][1] = t_prob\n",
        "        transitions[i][0][2] = d_prob\n",
        "        # T -->\n",
        "        transitions[i][1][0] = 0\n",
        "        transitions[i][1][1] = 0\n",
        "        transitions[i][1][2] = 0\n",
        "    else:\n",
        "        # N --> \n",
        "        transitions[i][0][0] = 0\n",
        "        transitions[i][0][1] = 0\n",
        "        transitions[i][0][2] = 0\n",
        "        # T -->\n",
        "        transitions[i][1][0] = n_prob\n",
        "        transitions[i][1][1] = t_prob\n",
        "        transitions[i][1][2] = d_prob\n",
        "\n",
        "# Get tranistion probabilities function\n",
        "def get_probs(act_choice, curr_state, trans_set=transitions, act_set=combos, states_set=state_set):\n",
        "    return trans_set[act_set.index(act_choice)][states_set.index(curr_state)]\n",
        "\n",
        "transitions[0:10]"
      ],
      "execution_count": 246,
      "outputs": [
        {
          "output_type": "stream",
          "text": [
            "T_a shape:\n",
            "    N  T  D\n",
            " N [0. 0. 0.] \n",
            " T [0. 0. 0.]\n"
          ],
          "name": "stdout"
        },
        {
          "output_type": "execute_result",
          "data": {
            "text/plain": [
              "array([[[0.84903439, 0.15096561, 0.        ],\n",
              "        [0.        , 0.        , 0.        ]],\n",
              "\n",
              "       [[0.        , 0.        , 0.        ],\n",
              "        [0.25      , 0.75      , 0.        ]],\n",
              "\n",
              "       [[0.        , 0.        , 0.        ],\n",
              "        [0.3       , 0.65      , 0.05      ]],\n",
              "\n",
              "       [[0.        , 0.        , 0.        ],\n",
              "        [0.11111111, 0.88888889, 0.        ]],\n",
              "\n",
              "       [[0.        , 0.        , 0.        ],\n",
              "        [0.33333333, 0.66666667, 0.        ]],\n",
              "\n",
              "       [[0.        , 0.        , 0.        ],\n",
              "        [0.33333333, 0.66666667, 0.        ]],\n",
              "\n",
              "       [[0.        , 0.        , 0.        ],\n",
              "        [0.16666667, 0.83333333, 0.        ]],\n",
              "\n",
              "       [[0.        , 0.        , 0.        ],\n",
              "        [0.5       , 0.5       , 0.        ]],\n",
              "\n",
              "       [[0.        , 0.        , 0.        ],\n",
              "        [0.2       , 0.8       , 0.        ]],\n",
              "\n",
              "       [[0.        , 0.        , 0.        ],\n",
              "        [0.        , 1.        , 0.        ]]])"
            ]
          },
          "metadata": {
            "tags": []
          },
          "execution_count": 246
        }
      ]
    },
    {
      "cell_type": "markdown",
      "metadata": {
        "id": "7Xbe4sqhFYNq"
      },
      "source": [
        "Q-Network: MLP"
      ]
    },
    {
      "cell_type": "code",
      "metadata": {
        "id": "NX_SB9BTFcA_"
      },
      "source": [
        "# Define DQN, one hidden layer MLP for now\n",
        "class DQN(nn.Module):\n",
        "    def __init__(self, in_features, hidden_size, out_features):\n",
        "        super(DQN, self).__init__()\n",
        "        self.net = nn.Sequential(nn.Linear(in_features, hidden_size),\n",
        "                                 nn.ReLU(),\n",
        "                                 nn.Linear(hidden_size, out_features))\n",
        "\n",
        "    def forward(self, x):\n",
        "        out = self.net(x)\n",
        "        return out"
      ],
      "execution_count": 247,
      "outputs": []
    },
    {
      "cell_type": "markdown",
      "metadata": {
        "id": "qwi3cx2gsa4M"
      },
      "source": [
        "Replay Memory\n",
        "\n",
        "https://pytorch.org/tutorials/intermediate/reinforcement_q_learning.html"
      ]
    },
    {
      "cell_type": "code",
      "metadata": {
        "id": "rZ9jxVEmsefd"
      },
      "source": [
        "Transition = namedtuple('Transition',\n",
        "                        ('state', 'action', 'next_state', 'reward', 'num_states'))\n",
        "\n",
        "\n",
        "class ReplayMemory(object):\n",
        "    def __init__(self, capacity):\n",
        "        self.capacity = capacity\n",
        "        self.memory = []\n",
        "        self.position = 0\n",
        "\n",
        "    def push(self, *args):\n",
        "        \"\"\"Saves a transition.\"\"\"\n",
        "        if len(self.memory) < self.capacity:\n",
        "            self.memory.append(None)\n",
        "        self.memory[self.position] = Transition(*args)\n",
        "        self.position = (self.position + 1) % self.capacity\n",
        "\n",
        "    def sample(self, batch_size):\n",
        "        return random.sample(self.memory, batch_size)\n",
        "\n",
        "    def __len__(self):\n",
        "        return len(self.memory)"
      ],
      "execution_count": 248,
      "outputs": []
    },
    {
      "cell_type": "markdown",
      "metadata": {
        "id": "EB4ZbWbXCFzI"
      },
      "source": [
        "Model training loop\n",
        "\n",
        "https://pytorch.org/tutorials/intermediate/reinforcement_q_learning.html"
      ]
    },
    {
      "cell_type": "code",
      "metadata": {
        "id": "G0b-nblgCDVR"
      },
      "source": [
        "def optimize_model():\n",
        "    if len(memory) < BATCH_SIZE:\n",
        "        return\n",
        "    transitions = memory.sample(BATCH_SIZE)\n",
        "    # Transpose the batch (see https://stackoverflow.com/a/19343/3343043 for\n",
        "    # detailed explanation). This converts batch-array of Transitions\n",
        "    # to Transition of batch-arrays.\n",
        "    batch = Transition(*zip(*transitions))\n",
        "\n",
        "    # Compute a mask of non-final states and concatenate the batch elements\n",
        "    # (a final state would've been the one after which simulation ended)\n",
        "    non_final_mask = torch.tensor(tuple(map(lambda s: s is not None,\n",
        "                                          batch.next_state)), device=device, dtype=torch.bool)\n",
        "    non_final_next_states = torch.cat([s for s in batch.next_state\n",
        "                                                if s is not None])\n",
        "\n",
        "    state_batch = torch.cat(batch.state)\n",
        "    action_batch = torch.cat(batch.action)\n",
        "    reward_batch = torch.cat(batch.reward)\n",
        "\n",
        "    # Compute Q(s_t, a) - the model computes Q(s_t), then we select the\n",
        "    # columns of actions taken. These are the actions which would've been taken\n",
        "    # for each batch state according to policy_net\n",
        "    state_action_values = policy_net(state_batch).gather(1, action_batch)\n",
        "\n",
        "    # Compute V(s_{t+1}) for all next states.\n",
        "    # Expected values of actions for non_final_next_states are computed based\n",
        "    # on the \"older\" target_net; selecting their best reward with max(1)[0].\n",
        "    # This is merged based on the mask, such that we'll have either the expected\n",
        "    # state value or 0 in case the state was final.\n",
        "    next_state_values = torch.zeros(BATCH_SIZE, device=device)\n",
        "    next_state_values[non_final_mask] = target_net(non_final_next_states).max(1)[0].detach()\n",
        "    # Compute the expected Q values\n",
        "    expected_state_action_values = (next_state_values * LEARN_RATE) + reward_batch\n",
        "\n",
        "    # Compute Huber loss\n",
        "    loss = F.smooth_l1_loss(state_action_values, expected_state_action_values.unsqueeze(1))\n",
        "\n",
        "    # Optimize the model\n",
        "    optimizer.zero_grad()\n",
        "    loss.backward()\n",
        "    for param in policy_net.parameters():\n",
        "        param.grad.data.clamp_(-1, 1)\n",
        "    optimizer.step()"
      ],
      "execution_count": 249,
      "outputs": []
    },
    {
      "cell_type": "markdown",
      "metadata": {
        "id": "QZLSsYJeheqC"
      },
      "source": [
        "## Environment\n",
        "\n",
        "Designed based on: https://github.com/MJeremy2017/reinforcement-learning-implementation/blob/master/GridWorld/gridWorld.py"
      ]
    },
    {
      "cell_type": "markdown",
      "metadata": {
        "id": "OZX71-HbqIf9"
      },
      "source": [
        "State Class"
      ]
    },
    {
      "cell_type": "code",
      "metadata": {
        "id": "vh4gKHOnAydB"
      },
      "source": [
        "# Globals\n",
        "START_STATE = 'T'\n",
        "START_COMBO = []\n",
        "LEARN_RATE = 0.2\n",
        "EXP_RATE = 0.3\n",
        "BATCH_SIZE = 100\n",
        "TARGET_UPDATE = 5\n",
        "\n",
        "policy = DQN(2, 100, len(combos_drugs)).to(device) # input features are the state and the number of previous states\n",
        "target_net = DQN(3, 100, len(combos_drugs)).to(device)\n",
        "target_net.load_state_dict(policy.state_dict())\n",
        "target_net.eval()\n",
        "\n",
        "optimizer = optim.RMSprop(policy.parameters())\n",
        "memory = ReplayMemory(10000)\n",
        "\n",
        "class State:\n",
        "    def __init__(self, state=START_STATE):\n",
        "        self.state = state\n",
        "        self.isEnd = False\n",
        "\n",
        "    # Give reward: for now, simple rewards\n",
        "    def giveReward(self):\n",
        "        if self.state == 'N':\n",
        "            return 1 \n",
        "        elif self.state == 'T':\n",
        "            return 1\n",
        "        elif self.state == 'D':\n",
        "            return -1 \n",
        "    \n",
        "    def isEndFunc(self):\n",
        "        if self.state == 'D':\n",
        "            self.isEnd = True\n",
        "\n",
        "    # Update step\n",
        "    def nxtPosition(self, action):\n",
        "        # Choose probabilities from transition matrix\n",
        "        probs = get_probs(action, self.state)\n",
        "        # Return next state\n",
        "        nxtState = random.choices(state_set, weights=probs, k=1)[0]\n",
        "        return nxtState"
      ],
      "execution_count": 250,
      "outputs": []
    },
    {
      "cell_type": "markdown",
      "metadata": {
        "id": "cdgwb3ALqMS5"
      },
      "source": [
        "Agent Class"
      ]
    },
    {
      "cell_type": "code",
      "metadata": {
        "id": "9Rub4E2hlARd"
      },
      "source": [
        "class Agent:\n",
        "    def __init__(self):\n",
        "        self.State = State()        \n",
        "        self.s_a = []\n",
        "        self.actions = combos_drugs\n",
        "        self.lr = LEARN_RATE\n",
        "        self.exp_rate = EXP_RATE\n",
        "\n",
        "        # initial state and action reward\n",
        "        self.state_values = {'N':1, 'T':1, 'D':-1}       # not sure if need these, need action values instead. Can it be like: Combo: Value - xt?\n",
        "        self.statevals_list = [1, 1, -1]      # for [N, T, D]\n",
        "        self.s_a_values = {} \n",
        "        for i in state_set:\n",
        "            for j in combos:\n",
        "                self.s_a_values[repr([i, j])] = 0\n",
        "    \n",
        "    # Choose Action: Try with just Carboplatin and Paclitaxel\n",
        "    def chooseAction(self):\n",
        "        # choose action with most expected value\n",
        "        mx_exp_reward = 0\n",
        "\n",
        "        if self.State.state == 'N':\n",
        "            action = []\n",
        "        else:\n",
        "            if np.random.uniform(0, 1) <= self.exp_rate:\n",
        "                action = self.actions[np.random.choice(len(self.actions))]\n",
        "            else:\n",
        "                # greedy action\n",
        "                with torch.no_grad():\n",
        "                    act = policy(self.State.state).max(1)[1].view(1, 1) ################### Need to change memoryinput to tensor from string. see, memory.push\n",
        "                    action = actions[act]\n",
        "                # for a in self.actions:\n",
        "                #     test_action = a\n",
        "                #     probs = get_probs(test_action, self.State.state)\n",
        "                #     exp_reward = sum(x * y for x, y in zip(probs, self.statevals_list))\n",
        "                #     if exp_reward >= mx_exp_reward:\n",
        "                #         action = a\n",
        "                #         mx_exp_reward = exp_reward\n",
        "        return action\n",
        "\n",
        "    def takeAction(self, action):\n",
        "        position = self.State.nxtPosition(action)\n",
        "        return State(state=position)\n",
        "\n",
        "    def reset(self):\n",
        "        self.s_a = []\n",
        "        self.State = State()\n",
        "\n",
        "    def play(self, rounds=20):\n",
        "        i = 0\n",
        "        while i < rounds:\n",
        "            # to the end of game back propagate reward\n",
        "            if self.State.isEnd:\n",
        "                # back propagate\n",
        "                reward = self.State.giveReward()\n",
        "                # explicitly assign end state to reward values\n",
        "                # self.s_a_values[repr([self.State.state, action])] = reward  # this is optional\n",
        "                # for s in reversed(self.s_a):\n",
        "                #     reward = self.s_a_values[repr([s[0], s[1]])] + self.lr * (reward - self.s_a_values[repr([s[0], s[1]])]) # I think i need to update this formula because using (s,a) now\n",
        "                #     self.s_a_values[repr([s[0], s[1]])] = reward\n",
        "                # Calculate total reward\n",
        "                total_reward = 0\n",
        "                for s in self.s_a:\n",
        "                    total_reward += self.state_values[s[0]]\n",
        "                print(self.s_a)\n",
        "                print('Total reward: ', total_reward)\n",
        "\n",
        "                self.reset()\n",
        "                i += 1\n",
        "            else:\n",
        "                s_t = self.State.state\n",
        "                action = self.chooseAction()\n",
        "                # append trace\n",
        "                self.s_a.append([self.State.state, action])\n",
        "                print('current state {} action {}'.format(self.State.state, action))\n",
        "                # by taking the action, it reaches the next state\n",
        "                self.State = self.takeAction(action)\n",
        "                # save transition vals for memory\n",
        "                s_t1 = self.State.state\n",
        "                r_t = self.State.giveReward()\n",
        "                num_state = len(self.s_a)\n",
        "                # store transition in memory\n",
        "                memory.push(s_t, action, s_t1, r_t, num_state) ################ Change memory inputs to numeric from string\n",
        "                # perform an optimizaiton step\n",
        "                optimize_model()\n",
        "                # update target model\n",
        "                if i % TARGET_UPDATE == 0:\n",
        "                    target_net.load_state_dict(policy.state_dict())\n",
        "                # mark is end\n",
        "                self.State.isEndFunc()\n",
        "                print('nxt state', self.State.state)\n",
        "                print('---------------------')"
      ],
      "execution_count": 251,
      "outputs": []
    },
    {
      "cell_type": "markdown",
      "metadata": {
        "id": "jpBhfZoBSw10"
      },
      "source": [
        "Treat patients"
      ]
    },
    {
      "cell_type": "code",
      "metadata": {
        "id": "7o5Wl8r3Sv-4",
        "colab": {
          "base_uri": "https://localhost:8080/",
          "height": 757
        },
        "outputId": "a75a8109-3699-47dd-d7f2-4cd3a2d3831c"
      },
      "source": [
        "if __name__ == '__main__':\n",
        "    ag = Agent()\n",
        "    ag.play()\n",
        "    print(memory)\n",
        "    # print(ag.s_a_values)"
      ],
      "execution_count": 252,
      "outputs": [
        {
          "output_type": "stream",
          "text": [
            "current state T action ['Doxorubicin', 'Irinotecan', 'Vinorelbine']\n",
            "nxt state D\n",
            "---------------------\n",
            "[['T', ['Doxorubicin', 'Irinotecan', 'Vinorelbine']]]\n",
            "Total reward:  1\n",
            "current state T action ['Doxorubicin', 'Irinotecan', 'Vinorelbine']\n",
            "nxt state N\n",
            "---------------------\n",
            "current state N action []\n",
            "nxt state N\n",
            "---------------------\n",
            "current state N action []\n",
            "nxt state N\n",
            "---------------------\n",
            "current state N action []\n",
            "nxt state N\n",
            "---------------------\n",
            "current state N action []\n",
            "nxt state T\n",
            "---------------------\n",
            "current state T action ['Bevacizumab', 'Fluorouracil+Leucovorin']\n",
            "nxt state T\n",
            "---------------------\n"
          ],
          "name": "stdout"
        },
        {
          "output_type": "error",
          "ename": "TypeError",
          "evalue": "ignored",
          "traceback": [
            "\u001b[0;31m---------------------------------------------------------------------------\u001b[0m",
            "\u001b[0;31mTypeError\u001b[0m                                 Traceback (most recent call last)",
            "\u001b[0;32m<ipython-input-252-008e1e242c9d>\u001b[0m in \u001b[0;36m<module>\u001b[0;34m()\u001b[0m\n\u001b[1;32m      1\u001b[0m \u001b[0;32mif\u001b[0m \u001b[0m__name__\u001b[0m \u001b[0;34m==\u001b[0m \u001b[0;34m'__main__'\u001b[0m\u001b[0;34m:\u001b[0m\u001b[0;34m\u001b[0m\u001b[0;34m\u001b[0m\u001b[0m\n\u001b[1;32m      2\u001b[0m     \u001b[0mag\u001b[0m \u001b[0;34m=\u001b[0m \u001b[0mAgent\u001b[0m\u001b[0;34m(\u001b[0m\u001b[0;34m)\u001b[0m\u001b[0;34m\u001b[0m\u001b[0;34m\u001b[0m\u001b[0m\n\u001b[0;32m----> 3\u001b[0;31m     \u001b[0mag\u001b[0m\u001b[0;34m.\u001b[0m\u001b[0mplay\u001b[0m\u001b[0;34m(\u001b[0m\u001b[0;34m)\u001b[0m\u001b[0;34m\u001b[0m\u001b[0;34m\u001b[0m\u001b[0m\n\u001b[0m\u001b[1;32m      4\u001b[0m     \u001b[0mprint\u001b[0m\u001b[0;34m(\u001b[0m\u001b[0mmemory\u001b[0m\u001b[0;34m)\u001b[0m\u001b[0;34m\u001b[0m\u001b[0;34m\u001b[0m\u001b[0m\n\u001b[1;32m      5\u001b[0m     \u001b[0;31m# print(ag.s_a_values)\u001b[0m\u001b[0;34m\u001b[0m\u001b[0;34m\u001b[0m\u001b[0;34m\u001b[0m\u001b[0m\n",
            "\u001b[0;32m<ipython-input-251-a62d990d4c8d>\u001b[0m in \u001b[0;36mplay\u001b[0;34m(self, rounds)\u001b[0m\n\u001b[1;32m     69\u001b[0m             \u001b[0;32melse\u001b[0m\u001b[0;34m:\u001b[0m\u001b[0;34m\u001b[0m\u001b[0;34m\u001b[0m\u001b[0m\n\u001b[1;32m     70\u001b[0m                 \u001b[0ms_t\u001b[0m \u001b[0;34m=\u001b[0m \u001b[0mself\u001b[0m\u001b[0;34m.\u001b[0m\u001b[0mState\u001b[0m\u001b[0;34m.\u001b[0m\u001b[0mstate\u001b[0m\u001b[0;34m\u001b[0m\u001b[0;34m\u001b[0m\u001b[0m\n\u001b[0;32m---> 71\u001b[0;31m                 \u001b[0maction\u001b[0m \u001b[0;34m=\u001b[0m \u001b[0mself\u001b[0m\u001b[0;34m.\u001b[0m\u001b[0mchooseAction\u001b[0m\u001b[0;34m(\u001b[0m\u001b[0;34m)\u001b[0m\u001b[0;34m\u001b[0m\u001b[0;34m\u001b[0m\u001b[0m\n\u001b[0m\u001b[1;32m     72\u001b[0m                 \u001b[0;31m# append trace\u001b[0m\u001b[0;34m\u001b[0m\u001b[0;34m\u001b[0m\u001b[0;34m\u001b[0m\u001b[0m\n\u001b[1;32m     73\u001b[0m                 \u001b[0mself\u001b[0m\u001b[0;34m.\u001b[0m\u001b[0ms_a\u001b[0m\u001b[0;34m.\u001b[0m\u001b[0mappend\u001b[0m\u001b[0;34m(\u001b[0m\u001b[0;34m[\u001b[0m\u001b[0mself\u001b[0m\u001b[0;34m.\u001b[0m\u001b[0mState\u001b[0m\u001b[0;34m.\u001b[0m\u001b[0mstate\u001b[0m\u001b[0;34m,\u001b[0m \u001b[0maction\u001b[0m\u001b[0;34m]\u001b[0m\u001b[0;34m)\u001b[0m\u001b[0;34m\u001b[0m\u001b[0;34m\u001b[0m\u001b[0m\n",
            "\u001b[0;32m<ipython-input-251-a62d990d4c8d>\u001b[0m in \u001b[0;36mchooseAction\u001b[0;34m(self)\u001b[0m\n\u001b[1;32m     28\u001b[0m                 \u001b[0;31m# greedy action\u001b[0m\u001b[0;34m\u001b[0m\u001b[0;34m\u001b[0m\u001b[0;34m\u001b[0m\u001b[0m\n\u001b[1;32m     29\u001b[0m                 \u001b[0;32mwith\u001b[0m \u001b[0mtorch\u001b[0m\u001b[0;34m.\u001b[0m\u001b[0mno_grad\u001b[0m\u001b[0;34m(\u001b[0m\u001b[0;34m)\u001b[0m\u001b[0;34m:\u001b[0m\u001b[0;34m\u001b[0m\u001b[0;34m\u001b[0m\u001b[0m\n\u001b[0;32m---> 30\u001b[0;31m                     \u001b[0maction\u001b[0m \u001b[0;34m=\u001b[0m \u001b[0mpolicy\u001b[0m\u001b[0;34m(\u001b[0m\u001b[0mself\u001b[0m\u001b[0;34m.\u001b[0m\u001b[0mState\u001b[0m\u001b[0;34m.\u001b[0m\u001b[0mstate\u001b[0m\u001b[0;34m)\u001b[0m\u001b[0;34m.\u001b[0m\u001b[0mmax\u001b[0m\u001b[0;34m(\u001b[0m\u001b[0;36m1\u001b[0m\u001b[0;34m)\u001b[0m\u001b[0;34m[\u001b[0m\u001b[0;36m1\u001b[0m\u001b[0;34m]\u001b[0m\u001b[0;34m.\u001b[0m\u001b[0mview\u001b[0m\u001b[0;34m(\u001b[0m\u001b[0;36m1\u001b[0m\u001b[0;34m,\u001b[0m \u001b[0;36m1\u001b[0m\u001b[0;34m)\u001b[0m\u001b[0;34m\u001b[0m\u001b[0;34m\u001b[0m\u001b[0m\n\u001b[0m\u001b[1;32m     31\u001b[0m                 \u001b[0;31m# for a in self.actions:\u001b[0m\u001b[0;34m\u001b[0m\u001b[0;34m\u001b[0m\u001b[0;34m\u001b[0m\u001b[0m\n\u001b[1;32m     32\u001b[0m                 \u001b[0;31m#     test_action = a\u001b[0m\u001b[0;34m\u001b[0m\u001b[0;34m\u001b[0m\u001b[0;34m\u001b[0m\u001b[0m\n",
            "\u001b[0;32m/usr/local/lib/python3.7/dist-packages/torch/nn/modules/module.py\u001b[0m in \u001b[0;36m_call_impl\u001b[0;34m(self, *input, **kwargs)\u001b[0m\n\u001b[1;32m    887\u001b[0m             \u001b[0mresult\u001b[0m \u001b[0;34m=\u001b[0m \u001b[0mself\u001b[0m\u001b[0;34m.\u001b[0m\u001b[0m_slow_forward\u001b[0m\u001b[0;34m(\u001b[0m\u001b[0;34m*\u001b[0m\u001b[0minput\u001b[0m\u001b[0;34m,\u001b[0m \u001b[0;34m**\u001b[0m\u001b[0mkwargs\u001b[0m\u001b[0;34m)\u001b[0m\u001b[0;34m\u001b[0m\u001b[0;34m\u001b[0m\u001b[0m\n\u001b[1;32m    888\u001b[0m         \u001b[0;32melse\u001b[0m\u001b[0;34m:\u001b[0m\u001b[0;34m\u001b[0m\u001b[0;34m\u001b[0m\u001b[0m\n\u001b[0;32m--> 889\u001b[0;31m             \u001b[0mresult\u001b[0m \u001b[0;34m=\u001b[0m \u001b[0mself\u001b[0m\u001b[0;34m.\u001b[0m\u001b[0mforward\u001b[0m\u001b[0;34m(\u001b[0m\u001b[0;34m*\u001b[0m\u001b[0minput\u001b[0m\u001b[0;34m,\u001b[0m \u001b[0;34m**\u001b[0m\u001b[0mkwargs\u001b[0m\u001b[0;34m)\u001b[0m\u001b[0;34m\u001b[0m\u001b[0;34m\u001b[0m\u001b[0m\n\u001b[0m\u001b[1;32m    890\u001b[0m         for hook in itertools.chain(\n\u001b[1;32m    891\u001b[0m                 \u001b[0m_global_forward_hooks\u001b[0m\u001b[0;34m.\u001b[0m\u001b[0mvalues\u001b[0m\u001b[0;34m(\u001b[0m\u001b[0;34m)\u001b[0m\u001b[0;34m,\u001b[0m\u001b[0;34m\u001b[0m\u001b[0;34m\u001b[0m\u001b[0m\n",
            "\u001b[0;32m<ipython-input-247-057a53476733>\u001b[0m in \u001b[0;36mforward\u001b[0;34m(self, x)\u001b[0m\n\u001b[1;32m      8\u001b[0m \u001b[0;34m\u001b[0m\u001b[0m\n\u001b[1;32m      9\u001b[0m     \u001b[0;32mdef\u001b[0m \u001b[0mforward\u001b[0m\u001b[0;34m(\u001b[0m\u001b[0mself\u001b[0m\u001b[0;34m,\u001b[0m \u001b[0mx\u001b[0m\u001b[0;34m)\u001b[0m\u001b[0;34m:\u001b[0m\u001b[0;34m\u001b[0m\u001b[0;34m\u001b[0m\u001b[0m\n\u001b[0;32m---> 10\u001b[0;31m         \u001b[0mout\u001b[0m \u001b[0;34m=\u001b[0m \u001b[0mself\u001b[0m\u001b[0;34m.\u001b[0m\u001b[0mnet\u001b[0m\u001b[0;34m(\u001b[0m\u001b[0mx\u001b[0m\u001b[0;34m)\u001b[0m\u001b[0;34m\u001b[0m\u001b[0;34m\u001b[0m\u001b[0m\n\u001b[0m\u001b[1;32m     11\u001b[0m         \u001b[0;32mreturn\u001b[0m \u001b[0mout\u001b[0m\u001b[0;34m\u001b[0m\u001b[0;34m\u001b[0m\u001b[0m\n",
            "\u001b[0;32m/usr/local/lib/python3.7/dist-packages/torch/nn/modules/module.py\u001b[0m in \u001b[0;36m_call_impl\u001b[0;34m(self, *input, **kwargs)\u001b[0m\n\u001b[1;32m    887\u001b[0m             \u001b[0mresult\u001b[0m \u001b[0;34m=\u001b[0m \u001b[0mself\u001b[0m\u001b[0;34m.\u001b[0m\u001b[0m_slow_forward\u001b[0m\u001b[0;34m(\u001b[0m\u001b[0;34m*\u001b[0m\u001b[0minput\u001b[0m\u001b[0;34m,\u001b[0m \u001b[0;34m**\u001b[0m\u001b[0mkwargs\u001b[0m\u001b[0;34m)\u001b[0m\u001b[0;34m\u001b[0m\u001b[0;34m\u001b[0m\u001b[0m\n\u001b[1;32m    888\u001b[0m         \u001b[0;32melse\u001b[0m\u001b[0;34m:\u001b[0m\u001b[0;34m\u001b[0m\u001b[0;34m\u001b[0m\u001b[0m\n\u001b[0;32m--> 889\u001b[0;31m             \u001b[0mresult\u001b[0m \u001b[0;34m=\u001b[0m \u001b[0mself\u001b[0m\u001b[0;34m.\u001b[0m\u001b[0mforward\u001b[0m\u001b[0;34m(\u001b[0m\u001b[0;34m*\u001b[0m\u001b[0minput\u001b[0m\u001b[0;34m,\u001b[0m \u001b[0;34m**\u001b[0m\u001b[0mkwargs\u001b[0m\u001b[0;34m)\u001b[0m\u001b[0;34m\u001b[0m\u001b[0;34m\u001b[0m\u001b[0m\n\u001b[0m\u001b[1;32m    890\u001b[0m         for hook in itertools.chain(\n\u001b[1;32m    891\u001b[0m                 \u001b[0m_global_forward_hooks\u001b[0m\u001b[0;34m.\u001b[0m\u001b[0mvalues\u001b[0m\u001b[0;34m(\u001b[0m\u001b[0;34m)\u001b[0m\u001b[0;34m,\u001b[0m\u001b[0;34m\u001b[0m\u001b[0;34m\u001b[0m\u001b[0m\n",
            "\u001b[0;32m/usr/local/lib/python3.7/dist-packages/torch/nn/modules/container.py\u001b[0m in \u001b[0;36mforward\u001b[0;34m(self, input)\u001b[0m\n\u001b[1;32m    117\u001b[0m     \u001b[0;32mdef\u001b[0m \u001b[0mforward\u001b[0m\u001b[0;34m(\u001b[0m\u001b[0mself\u001b[0m\u001b[0;34m,\u001b[0m \u001b[0minput\u001b[0m\u001b[0;34m)\u001b[0m\u001b[0;34m:\u001b[0m\u001b[0;34m\u001b[0m\u001b[0;34m\u001b[0m\u001b[0m\n\u001b[1;32m    118\u001b[0m         \u001b[0;32mfor\u001b[0m \u001b[0mmodule\u001b[0m \u001b[0;32min\u001b[0m \u001b[0mself\u001b[0m\u001b[0;34m:\u001b[0m\u001b[0;34m\u001b[0m\u001b[0;34m\u001b[0m\u001b[0m\n\u001b[0;32m--> 119\u001b[0;31m             \u001b[0minput\u001b[0m \u001b[0;34m=\u001b[0m \u001b[0mmodule\u001b[0m\u001b[0;34m(\u001b[0m\u001b[0minput\u001b[0m\u001b[0;34m)\u001b[0m\u001b[0;34m\u001b[0m\u001b[0;34m\u001b[0m\u001b[0m\n\u001b[0m\u001b[1;32m    120\u001b[0m         \u001b[0;32mreturn\u001b[0m \u001b[0minput\u001b[0m\u001b[0;34m\u001b[0m\u001b[0;34m\u001b[0m\u001b[0m\n\u001b[1;32m    121\u001b[0m \u001b[0;34m\u001b[0m\u001b[0m\n",
            "\u001b[0;32m/usr/local/lib/python3.7/dist-packages/torch/nn/modules/module.py\u001b[0m in \u001b[0;36m_call_impl\u001b[0;34m(self, *input, **kwargs)\u001b[0m\n\u001b[1;32m    887\u001b[0m             \u001b[0mresult\u001b[0m \u001b[0;34m=\u001b[0m \u001b[0mself\u001b[0m\u001b[0;34m.\u001b[0m\u001b[0m_slow_forward\u001b[0m\u001b[0;34m(\u001b[0m\u001b[0;34m*\u001b[0m\u001b[0minput\u001b[0m\u001b[0;34m,\u001b[0m \u001b[0;34m**\u001b[0m\u001b[0mkwargs\u001b[0m\u001b[0;34m)\u001b[0m\u001b[0;34m\u001b[0m\u001b[0;34m\u001b[0m\u001b[0m\n\u001b[1;32m    888\u001b[0m         \u001b[0;32melse\u001b[0m\u001b[0;34m:\u001b[0m\u001b[0;34m\u001b[0m\u001b[0;34m\u001b[0m\u001b[0m\n\u001b[0;32m--> 889\u001b[0;31m             \u001b[0mresult\u001b[0m \u001b[0;34m=\u001b[0m \u001b[0mself\u001b[0m\u001b[0;34m.\u001b[0m\u001b[0mforward\u001b[0m\u001b[0;34m(\u001b[0m\u001b[0;34m*\u001b[0m\u001b[0minput\u001b[0m\u001b[0;34m,\u001b[0m \u001b[0;34m**\u001b[0m\u001b[0mkwargs\u001b[0m\u001b[0;34m)\u001b[0m\u001b[0;34m\u001b[0m\u001b[0;34m\u001b[0m\u001b[0m\n\u001b[0m\u001b[1;32m    890\u001b[0m         for hook in itertools.chain(\n\u001b[1;32m    891\u001b[0m                 \u001b[0m_global_forward_hooks\u001b[0m\u001b[0;34m.\u001b[0m\u001b[0mvalues\u001b[0m\u001b[0;34m(\u001b[0m\u001b[0;34m)\u001b[0m\u001b[0;34m,\u001b[0m\u001b[0;34m\u001b[0m\u001b[0;34m\u001b[0m\u001b[0m\n",
            "\u001b[0;32m/usr/local/lib/python3.7/dist-packages/torch/nn/modules/linear.py\u001b[0m in \u001b[0;36mforward\u001b[0;34m(self, input)\u001b[0m\n\u001b[1;32m     92\u001b[0m \u001b[0;34m\u001b[0m\u001b[0m\n\u001b[1;32m     93\u001b[0m     \u001b[0;32mdef\u001b[0m \u001b[0mforward\u001b[0m\u001b[0;34m(\u001b[0m\u001b[0mself\u001b[0m\u001b[0;34m,\u001b[0m \u001b[0minput\u001b[0m\u001b[0;34m:\u001b[0m \u001b[0mTensor\u001b[0m\u001b[0;34m)\u001b[0m \u001b[0;34m->\u001b[0m \u001b[0mTensor\u001b[0m\u001b[0;34m:\u001b[0m\u001b[0;34m\u001b[0m\u001b[0;34m\u001b[0m\u001b[0m\n\u001b[0;32m---> 94\u001b[0;31m         \u001b[0;32mreturn\u001b[0m \u001b[0mF\u001b[0m\u001b[0;34m.\u001b[0m\u001b[0mlinear\u001b[0m\u001b[0;34m(\u001b[0m\u001b[0minput\u001b[0m\u001b[0;34m,\u001b[0m \u001b[0mself\u001b[0m\u001b[0;34m.\u001b[0m\u001b[0mweight\u001b[0m\u001b[0;34m,\u001b[0m \u001b[0mself\u001b[0m\u001b[0;34m.\u001b[0m\u001b[0mbias\u001b[0m\u001b[0;34m)\u001b[0m\u001b[0;34m\u001b[0m\u001b[0;34m\u001b[0m\u001b[0m\n\u001b[0m\u001b[1;32m     95\u001b[0m \u001b[0;34m\u001b[0m\u001b[0m\n\u001b[1;32m     96\u001b[0m     \u001b[0;32mdef\u001b[0m \u001b[0mextra_repr\u001b[0m\u001b[0;34m(\u001b[0m\u001b[0mself\u001b[0m\u001b[0;34m)\u001b[0m \u001b[0;34m->\u001b[0m \u001b[0mstr\u001b[0m\u001b[0;34m:\u001b[0m\u001b[0;34m\u001b[0m\u001b[0;34m\u001b[0m\u001b[0m\n",
            "\u001b[0;32m/usr/local/lib/python3.7/dist-packages/torch/nn/functional.py\u001b[0m in \u001b[0;36mlinear\u001b[0;34m(input, weight, bias)\u001b[0m\n\u001b[1;32m   1751\u001b[0m     \u001b[0;32mif\u001b[0m \u001b[0mhas_torch_function_variadic\u001b[0m\u001b[0;34m(\u001b[0m\u001b[0minput\u001b[0m\u001b[0;34m,\u001b[0m \u001b[0mweight\u001b[0m\u001b[0;34m)\u001b[0m\u001b[0;34m:\u001b[0m\u001b[0;34m\u001b[0m\u001b[0;34m\u001b[0m\u001b[0m\n\u001b[1;32m   1752\u001b[0m         \u001b[0;32mreturn\u001b[0m \u001b[0mhandle_torch_function\u001b[0m\u001b[0;34m(\u001b[0m\u001b[0mlinear\u001b[0m\u001b[0;34m,\u001b[0m \u001b[0;34m(\u001b[0m\u001b[0minput\u001b[0m\u001b[0;34m,\u001b[0m \u001b[0mweight\u001b[0m\u001b[0;34m)\u001b[0m\u001b[0;34m,\u001b[0m \u001b[0minput\u001b[0m\u001b[0;34m,\u001b[0m \u001b[0mweight\u001b[0m\u001b[0;34m,\u001b[0m \u001b[0mbias\u001b[0m\u001b[0;34m=\u001b[0m\u001b[0mbias\u001b[0m\u001b[0;34m)\u001b[0m\u001b[0;34m\u001b[0m\u001b[0;34m\u001b[0m\u001b[0m\n\u001b[0;32m-> 1753\u001b[0;31m     \u001b[0;32mreturn\u001b[0m \u001b[0mtorch\u001b[0m\u001b[0;34m.\u001b[0m\u001b[0m_C\u001b[0m\u001b[0;34m.\u001b[0m\u001b[0m_nn\u001b[0m\u001b[0;34m.\u001b[0m\u001b[0mlinear\u001b[0m\u001b[0;34m(\u001b[0m\u001b[0minput\u001b[0m\u001b[0;34m,\u001b[0m \u001b[0mweight\u001b[0m\u001b[0;34m,\u001b[0m \u001b[0mbias\u001b[0m\u001b[0;34m)\u001b[0m\u001b[0;34m\u001b[0m\u001b[0;34m\u001b[0m\u001b[0m\n\u001b[0m\u001b[1;32m   1754\u001b[0m \u001b[0;34m\u001b[0m\u001b[0m\n\u001b[1;32m   1755\u001b[0m \u001b[0;34m\u001b[0m\u001b[0m\n",
            "\u001b[0;31mTypeError\u001b[0m: linear(): argument 'input' (position 1) must be Tensor, not str"
          ]
        }
      ]
    },
    {
      "cell_type": "markdown",
      "metadata": {
        "id": "t4G7VixwubZe"
      },
      "source": [
        "## Scratch/notes"
      ]
    },
    {
      "cell_type": "markdown",
      "metadata": {
        "id": "lhzLwojuFxnC"
      },
      "source": [
        "Notes\n",
        "* Add in \"remission\" as a state (i.e. no treatment)\n",
        "  - Calculate similar to probability of death: probability that a no-treatment period follows a treatment\n",
        "  - Then need to calculate probability following \"remission\" for each:\n",
        "    - Death\n",
        "    - remission, i.e. no treatment\n",
        "    - More treatment i.e. \"progression/recurrence\" \n",
        "  - No-treatment (\"[]\") will not be in the action set\n",
        "    - Unless already in the no-treatment state\n",
        "    - Importantly, this means that the agent cannot decide to take a patient off of treatement. Not being on chemo is not a choice made by the AI \"doctor\", but rather, is a result of the previous treatment. Agent can, however, choose not to add drugs if already achieved remission (i.e. in the no-treatment state) \n",
        "\n",
        "* \"Grid world\" verion of action space\n",
        "  - 56 dimensional object with up to 5 drugs activated at once\n",
        "  - Action set is [Start drug {n}, Stop drug {n}, Do nothing]\n",
        "    - Cannot [Stop drug {n}] if resulting state is no treatment\n",
        "    - Cannot [Start drug {n}] if resulting len(combo) > 5\n",
        "    - Cannot start a drug that is already in the combo\n",
        "  - \\> 4mm possible combinations, only 127 drug combos in data - is this necessary? \n",
        "\n",
        "* Rewards\n",
        "  - I think in the final version this should be a probability distribution returning a number of days of survival/until treatment failure after each action\n",
        "  - For starters, just try to get the average days survived when therapy doesn't result in death.\n",
        "  - Also need to think of something for when patients don't die\n",
        "    - Maybe just probability of death and a final non-death stop state?\n",
        "    - Death vs. no death in the end doesn't matter unless the no deaths get a final reward\n",
        "\n",
        "* Bellman action value equation: Q(s,a) = r + γ(max(Q(s’,a’))\n",
        "  - \"This says that the Q-value for a given state (s) and action (a) should represent the current reward (r) plus the maximum discounted (γ) future reward expected according to our own table for the next state (s’) we would end up in\"\n",
        "\n",
        "* Replay memory?"
      ]
    },
    {
      "cell_type": "markdown",
      "metadata": {
        "id": "i1T5dOpFDHsd"
      },
      "source": [
        "Intermittant reward matrix for each patient"
      ]
    },
    {
      "cell_type": "code",
      "metadata": {
        "id": "1kse5iCiC84F"
      },
      "source": [
        "# fix because including no drug periods and using df\n",
        "\n",
        "# tcga_rewards = {}\n",
        "# for barcode in tcga_lines_keys:\n",
        "#     rewards = []\n",
        "#     for line in range(len(tcga_drug_lines[barcode])):\n",
        "#         try:\n",
        "#             rewards.append(tcga_drug_lines[barcode][line+1][0] - tcga_drug_lines[barcode][line][0])\n",
        "#         except:\n",
        "#             rewards.append(tcga_ov_1_keep.loc[tcga_ov_1_keep['bcr_patient_barcode'] == barcode, 'total_days_overall_survival'].iloc[0] - tcga_drug_lines[barcode][line][0])\n",
        "\n",
        "#     tcga_rewards[barcode] = rewards\n",
        "\n",
        "# tcga_rewards"
      ],
      "execution_count": null,
      "outputs": []
    },
    {
      "cell_type": "code",
      "metadata": {
        "id": "se4yPE1y3pna"
      },
      "source": [
        "# negs = []\n",
        "# for barcode in tcga_rewards:\n",
        "#     if tcga_rewards[barcode][-1] < 0:\n",
        "#         negs.append(barcode)\n",
        "\n",
        "# negs"
      ],
      "execution_count": null,
      "outputs": []
    },
    {
      "cell_type": "code",
      "metadata": {
        "id": "3Rk6ADD7bzKc"
      },
      "source": [
        "# Add in final state for each patient: [time, 'death']\n",
        "# Figure out what to do with patients where overall survival is < the end of the last therapy line"
      ],
      "execution_count": null,
      "outputs": []
    },
    {
      "cell_type": "code",
      "metadata": {
        "id": "xaT1Me5DZm5I"
      },
      "source": [
        "# define transition matrix\n",
        "# def transition(state, action): \n",
        "#     if state,action = (living, drug A): \n",
        "#         then return 1 if np.random() < 0.8 …. \n",
        "        \n",
        "#     if state, action = (living, drug B), return 1 \n",
        "    \n",
        "#     if ..\n"
      ],
      "execution_count": null,
      "outputs": []
    }
  ]
}